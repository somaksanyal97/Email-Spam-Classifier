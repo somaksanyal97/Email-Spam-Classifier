{
  "cells": [
    {
      "cell_type": "code",
      "execution_count": null,
      "metadata": {
        "colab": {
          "base_uri": "https://localhost:8080/"
        },
        "id": "0ElK5ZMEoMTu",
        "outputId": "21f29d4e-cfff-4847-d134-502eb5bb8ace"
      },
      "outputs": [
        {
          "output_type": "stream",
          "name": "stdout",
          "text": [
            "Drive already mounted at /content/drive; to attempt to forcibly remount, call drive.mount(\"/content/drive\", force_remount=True).\n"
          ]
        }
      ],
      "source": [
        "from google.colab import drive\n",
        "drive.mount('/content/drive')"
      ]
    },
    {
      "cell_type": "markdown",
      "metadata": {
        "id": "FFHjQccjglP4"
      },
      "source": [
        "# **Library Imports**"
      ]
    },
    {
      "cell_type": "code",
      "execution_count": null,
      "metadata": {
        "colab": {
          "base_uri": "https://localhost:8080/"
        },
        "id": "62cF6xuafMO9",
        "outputId": "00c8a30a-2a18-4e36-e750-8d50704b8ecb"
      },
      "outputs": [
        {
          "output_type": "stream",
          "name": "stderr",
          "text": [
            "[nltk_data] Downloading package stopwords to /root/nltk_data...\n",
            "[nltk_data]   Package stopwords is already up-to-date!\n"
          ]
        },
        {
          "output_type": "execute_result",
          "data": {
            "text/plain": [
              "True"
            ]
          },
          "metadata": {},
          "execution_count": 4
        }
      ],
      "source": [
        "import re #libray for regular expression\n",
        "import nltk\n",
        "nltk.download('stopwords')"
      ]
    },
    {
      "cell_type": "code",
      "execution_count": null,
      "metadata": {
        "id": "1LNvLPdtBgPP"
      },
      "outputs": [],
      "source": [
        "import pandas as pd\n",
        "import numpy as np\n",
        "import matplotlib.pyplot as plt\n",
        "import seaborn as sns\n",
        "from nltk.corpus import stopwords\n",
        "from nltk.stem.porter import PorterStemmer\n",
        "from sklearn.feature_extraction.text import CountVectorizer, TfidfVectorizer\n",
        "from gensim.models import Word2Vec\n",
        "from sklearn.model_selection import train_test_split, GridSearchCV\n",
        "from sklearn.metrics import confusion_matrix, classification_report, accuracy_score, precision_score, recall_score, f1_score\n",
        "from imblearn.over_sampling import SMOTE\n",
        "from sklearn.naive_bayes import MultinomialNB\n",
        "from sklearn.linear_model import LogisticRegression\n",
        "from sklearn.neighbors import KNeighborsClassifier\n",
        "from sklearn.tree import DecisionTreeClassifier\n",
        "from sklearn.ensemble import RandomForestClassifier"
      ]
    },
    {
      "cell_type": "markdown",
      "metadata": {
        "id": "0qoBauqmgsSK"
      },
      "source": [
        "# Loading Data"
      ]
    },
    {
      "cell_type": "code",
      "execution_count": null,
      "metadata": {
        "id": "jtjzT0EjJJqx"
      },
      "outputs": [],
      "source": [
        "df = pd.read_csv('/content/drive/MyDrive/Github Projects/3. Spam Detection in Emails/completeSpamAssassin.csv')\n",
        "df1 = pd.read_csv('/content/drive/MyDrive/Github Projects/3. Spam Detection in Emails/enronSpamSubset.csv')\n",
        "df2 = pd.read_csv('/content/drive/MyDrive/Github Projects/3. Spam Detection in Emails/lingSpam.csv')"
      ]
    },
    {
      "cell_type": "code",
      "execution_count": null,
      "metadata": {
        "colab": {
          "base_uri": "https://localhost:8080/",
          "height": 206
        },
        "id": "zehsUHnJJOyR",
        "outputId": "567a515c-baec-42b7-d96b-f279af467081"
      },
      "outputs": [
        {
          "output_type": "execute_result",
          "data": {
            "text/plain": [
              "   Unnamed: 0                                               Body  Label\n",
              "0           0  \\nSave up to 70% on Life Insurance.\\nWhy Spend...      1\n",
              "1           1  1) Fight The Risk of Cancer!\\nhttp://www.adcli...      1\n",
              "2           2  1) Fight The Risk of Cancer!\\nhttp://www.adcli...      1\n",
              "3           3  ##############################################...      1\n",
              "4           4  I thought you might like these:\\n1) Slim Down ...      1"
            ],
            "text/html": [
              "\n",
              "  <div id=\"df-c5d64b81-11dd-4a95-84ef-b4ac32b1d3ce\" class=\"colab-df-container\">\n",
              "    <div>\n",
              "<style scoped>\n",
              "    .dataframe tbody tr th:only-of-type {\n",
              "        vertical-align: middle;\n",
              "    }\n",
              "\n",
              "    .dataframe tbody tr th {\n",
              "        vertical-align: top;\n",
              "    }\n",
              "\n",
              "    .dataframe thead th {\n",
              "        text-align: right;\n",
              "    }\n",
              "</style>\n",
              "<table border=\"1\" class=\"dataframe\">\n",
              "  <thead>\n",
              "    <tr style=\"text-align: right;\">\n",
              "      <th></th>\n",
              "      <th>Unnamed: 0</th>\n",
              "      <th>Body</th>\n",
              "      <th>Label</th>\n",
              "    </tr>\n",
              "  </thead>\n",
              "  <tbody>\n",
              "    <tr>\n",
              "      <th>0</th>\n",
              "      <td>0</td>\n",
              "      <td>\\nSave up to 70% on Life Insurance.\\nWhy Spend...</td>\n",
              "      <td>1</td>\n",
              "    </tr>\n",
              "    <tr>\n",
              "      <th>1</th>\n",
              "      <td>1</td>\n",
              "      <td>1) Fight The Risk of Cancer!\\nhttp://www.adcli...</td>\n",
              "      <td>1</td>\n",
              "    </tr>\n",
              "    <tr>\n",
              "      <th>2</th>\n",
              "      <td>2</td>\n",
              "      <td>1) Fight The Risk of Cancer!\\nhttp://www.adcli...</td>\n",
              "      <td>1</td>\n",
              "    </tr>\n",
              "    <tr>\n",
              "      <th>3</th>\n",
              "      <td>3</td>\n",
              "      <td>##############################################...</td>\n",
              "      <td>1</td>\n",
              "    </tr>\n",
              "    <tr>\n",
              "      <th>4</th>\n",
              "      <td>4</td>\n",
              "      <td>I thought you might like these:\\n1) Slim Down ...</td>\n",
              "      <td>1</td>\n",
              "    </tr>\n",
              "  </tbody>\n",
              "</table>\n",
              "</div>\n",
              "    <div class=\"colab-df-buttons\">\n",
              "\n",
              "  <div class=\"colab-df-container\">\n",
              "    <button class=\"colab-df-convert\" onclick=\"convertToInteractive('df-c5d64b81-11dd-4a95-84ef-b4ac32b1d3ce')\"\n",
              "            title=\"Convert this dataframe to an interactive table.\"\n",
              "            style=\"display:none;\">\n",
              "\n",
              "  <svg xmlns=\"http://www.w3.org/2000/svg\" height=\"24px\" viewBox=\"0 -960 960 960\">\n",
              "    <path d=\"M120-120v-720h720v720H120Zm60-500h600v-160H180v160Zm220 220h160v-160H400v160Zm0 220h160v-160H400v160ZM180-400h160v-160H180v160Zm440 0h160v-160H620v160ZM180-180h160v-160H180v160Zm440 0h160v-160H620v160Z\"/>\n",
              "  </svg>\n",
              "    </button>\n",
              "\n",
              "  <style>\n",
              "    .colab-df-container {\n",
              "      display:flex;\n",
              "      gap: 12px;\n",
              "    }\n",
              "\n",
              "    .colab-df-convert {\n",
              "      background-color: #E8F0FE;\n",
              "      border: none;\n",
              "      border-radius: 50%;\n",
              "      cursor: pointer;\n",
              "      display: none;\n",
              "      fill: #1967D2;\n",
              "      height: 32px;\n",
              "      padding: 0 0 0 0;\n",
              "      width: 32px;\n",
              "    }\n",
              "\n",
              "    .colab-df-convert:hover {\n",
              "      background-color: #E2EBFA;\n",
              "      box-shadow: 0px 1px 2px rgba(60, 64, 67, 0.3), 0px 1px 3px 1px rgba(60, 64, 67, 0.15);\n",
              "      fill: #174EA6;\n",
              "    }\n",
              "\n",
              "    .colab-df-buttons div {\n",
              "      margin-bottom: 4px;\n",
              "    }\n",
              "\n",
              "    [theme=dark] .colab-df-convert {\n",
              "      background-color: #3B4455;\n",
              "      fill: #D2E3FC;\n",
              "    }\n",
              "\n",
              "    [theme=dark] .colab-df-convert:hover {\n",
              "      background-color: #434B5C;\n",
              "      box-shadow: 0px 1px 3px 1px rgba(0, 0, 0, 0.15);\n",
              "      filter: drop-shadow(0px 1px 2px rgba(0, 0, 0, 0.3));\n",
              "      fill: #FFFFFF;\n",
              "    }\n",
              "  </style>\n",
              "\n",
              "    <script>\n",
              "      const buttonEl =\n",
              "        document.querySelector('#df-c5d64b81-11dd-4a95-84ef-b4ac32b1d3ce button.colab-df-convert');\n",
              "      buttonEl.style.display =\n",
              "        google.colab.kernel.accessAllowed ? 'block' : 'none';\n",
              "\n",
              "      async function convertToInteractive(key) {\n",
              "        const element = document.querySelector('#df-c5d64b81-11dd-4a95-84ef-b4ac32b1d3ce');\n",
              "        const dataTable =\n",
              "          await google.colab.kernel.invokeFunction('convertToInteractive',\n",
              "                                                    [key], {});\n",
              "        if (!dataTable) return;\n",
              "\n",
              "        const docLinkHtml = 'Like what you see? Visit the ' +\n",
              "          '<a target=\"_blank\" href=https://colab.research.google.com/notebooks/data_table.ipynb>data table notebook</a>'\n",
              "          + ' to learn more about interactive tables.';\n",
              "        element.innerHTML = '';\n",
              "        dataTable['output_type'] = 'display_data';\n",
              "        await google.colab.output.renderOutput(dataTable, element);\n",
              "        const docLink = document.createElement('div');\n",
              "        docLink.innerHTML = docLinkHtml;\n",
              "        element.appendChild(docLink);\n",
              "      }\n",
              "    </script>\n",
              "  </div>\n",
              "\n",
              "\n",
              "<div id=\"df-888b0102-e90f-4c05-b3fa-27d4ccc37f0e\">\n",
              "  <button class=\"colab-df-quickchart\" onclick=\"quickchart('df-888b0102-e90f-4c05-b3fa-27d4ccc37f0e')\"\n",
              "            title=\"Suggest charts\"\n",
              "            style=\"display:none;\">\n",
              "\n",
              "<svg xmlns=\"http://www.w3.org/2000/svg\" height=\"24px\"viewBox=\"0 0 24 24\"\n",
              "     width=\"24px\">\n",
              "    <g>\n",
              "        <path d=\"M19 3H5c-1.1 0-2 .9-2 2v14c0 1.1.9 2 2 2h14c1.1 0 2-.9 2-2V5c0-1.1-.9-2-2-2zM9 17H7v-7h2v7zm4 0h-2V7h2v10zm4 0h-2v-4h2v4z\"/>\n",
              "    </g>\n",
              "</svg>\n",
              "  </button>\n",
              "\n",
              "<style>\n",
              "  .colab-df-quickchart {\n",
              "      --bg-color: #E8F0FE;\n",
              "      --fill-color: #1967D2;\n",
              "      --hover-bg-color: #E2EBFA;\n",
              "      --hover-fill-color: #174EA6;\n",
              "      --disabled-fill-color: #AAA;\n",
              "      --disabled-bg-color: #DDD;\n",
              "  }\n",
              "\n",
              "  [theme=dark] .colab-df-quickchart {\n",
              "      --bg-color: #3B4455;\n",
              "      --fill-color: #D2E3FC;\n",
              "      --hover-bg-color: #434B5C;\n",
              "      --hover-fill-color: #FFFFFF;\n",
              "      --disabled-bg-color: #3B4455;\n",
              "      --disabled-fill-color: #666;\n",
              "  }\n",
              "\n",
              "  .colab-df-quickchart {\n",
              "    background-color: var(--bg-color);\n",
              "    border: none;\n",
              "    border-radius: 50%;\n",
              "    cursor: pointer;\n",
              "    display: none;\n",
              "    fill: var(--fill-color);\n",
              "    height: 32px;\n",
              "    padding: 0;\n",
              "    width: 32px;\n",
              "  }\n",
              "\n",
              "  .colab-df-quickchart:hover {\n",
              "    background-color: var(--hover-bg-color);\n",
              "    box-shadow: 0 1px 2px rgba(60, 64, 67, 0.3), 0 1px 3px 1px rgba(60, 64, 67, 0.15);\n",
              "    fill: var(--button-hover-fill-color);\n",
              "  }\n",
              "\n",
              "  .colab-df-quickchart-complete:disabled,\n",
              "  .colab-df-quickchart-complete:disabled:hover {\n",
              "    background-color: var(--disabled-bg-color);\n",
              "    fill: var(--disabled-fill-color);\n",
              "    box-shadow: none;\n",
              "  }\n",
              "\n",
              "  .colab-df-spinner {\n",
              "    border: 2px solid var(--fill-color);\n",
              "    border-color: transparent;\n",
              "    border-bottom-color: var(--fill-color);\n",
              "    animation:\n",
              "      spin 1s steps(1) infinite;\n",
              "  }\n",
              "\n",
              "  @keyframes spin {\n",
              "    0% {\n",
              "      border-color: transparent;\n",
              "      border-bottom-color: var(--fill-color);\n",
              "      border-left-color: var(--fill-color);\n",
              "    }\n",
              "    20% {\n",
              "      border-color: transparent;\n",
              "      border-left-color: var(--fill-color);\n",
              "      border-top-color: var(--fill-color);\n",
              "    }\n",
              "    30% {\n",
              "      border-color: transparent;\n",
              "      border-left-color: var(--fill-color);\n",
              "      border-top-color: var(--fill-color);\n",
              "      border-right-color: var(--fill-color);\n",
              "    }\n",
              "    40% {\n",
              "      border-color: transparent;\n",
              "      border-right-color: var(--fill-color);\n",
              "      border-top-color: var(--fill-color);\n",
              "    }\n",
              "    60% {\n",
              "      border-color: transparent;\n",
              "      border-right-color: var(--fill-color);\n",
              "    }\n",
              "    80% {\n",
              "      border-color: transparent;\n",
              "      border-right-color: var(--fill-color);\n",
              "      border-bottom-color: var(--fill-color);\n",
              "    }\n",
              "    90% {\n",
              "      border-color: transparent;\n",
              "      border-bottom-color: var(--fill-color);\n",
              "    }\n",
              "  }\n",
              "</style>\n",
              "\n",
              "  <script>\n",
              "    async function quickchart(key) {\n",
              "      const quickchartButtonEl =\n",
              "        document.querySelector('#' + key + ' button');\n",
              "      quickchartButtonEl.disabled = true;  // To prevent multiple clicks.\n",
              "      quickchartButtonEl.classList.add('colab-df-spinner');\n",
              "      try {\n",
              "        const charts = await google.colab.kernel.invokeFunction(\n",
              "            'suggestCharts', [key], {});\n",
              "      } catch (error) {\n",
              "        console.error('Error during call to suggestCharts:', error);\n",
              "      }\n",
              "      quickchartButtonEl.classList.remove('colab-df-spinner');\n",
              "      quickchartButtonEl.classList.add('colab-df-quickchart-complete');\n",
              "    }\n",
              "    (() => {\n",
              "      let quickchartButtonEl =\n",
              "        document.querySelector('#df-888b0102-e90f-4c05-b3fa-27d4ccc37f0e button');\n",
              "      quickchartButtonEl.style.display =\n",
              "        google.colab.kernel.accessAllowed ? 'block' : 'none';\n",
              "    })();\n",
              "  </script>\n",
              "</div>\n",
              "    </div>\n",
              "  </div>\n"
            ],
            "application/vnd.google.colaboratory.intrinsic+json": {
              "type": "dataframe",
              "variable_name": "df",
              "summary": "{\n  \"name\": \"df\",\n  \"rows\": 6046,\n  \"fields\": [\n    {\n      \"column\": \"Unnamed: 0\",\n      \"properties\": {\n        \"dtype\": \"number\",\n        \"std\": 1745,\n        \"min\": 0,\n        \"max\": 6045,\n        \"num_unique_values\": 6046,\n        \"samples\": [\n          4047,\n          4604,\n          1992\n        ],\n        \"semantic_type\": \"\",\n        \"description\": \"\"\n      }\n    },\n    {\n      \"column\": \"Body\",\n      \"properties\": {\n        \"dtype\": \"string\",\n        \"num_unique_values\": 5292,\n        \"samples\": [\n          \"\\n\\u00c2\\u00a0VIAGRA\\nTM\\n                  \\u00c2\\u00a0\\nIs the breakthrough\\n      medication that has restored\\n      or enhanced the Sex lives of millions of men.\\nIs available to you online\\n      and\\nFedExtm\\n      delivered to your mailbox at\\n      LOWEST PRICES\\n ANYWHEREPlus we offer\\nP H E N T E R M I N E\\nThe World Renown Weight\\n      Loss Miracle Pill.\\nOnline Ordering is\\n      Convenient, Affordable and Confidential.\\n\\u00c2\\u00a0 For More\\n      Savings\\n      Info.\\nPlease\\n      Become One Of Our Many\\n      \\u00c2\\u00a0We are your online pharmacy for\\n       FDA approved drugs\\n      \\u00c2\\u00a0through FREE online consultation. We offer the widest\\u00c2\\u00a0\\n range of drugs available through online ordering.\\u00c2\\u00a0\\n      We\\n      have the Lowest Priced Viagra On The Internet.\\u00c2\\u00a0      \\u00c2\\u00a0 For The\\n      Perfect Experience\\n      Click Here and Revitalize Your Life.\\n\\u00c2\\u00a0\\n      To be removed\\u00c2\\u00a0put your email address in the body of the email along with\\n      \\u00c2\\u00a0the words \\\"user inactiv*e\\\" without the * by just clicking Remove Me ******\",\n          \"Get a FREE CAR or SUV!\\nCLICK HERE!\\nThere are hundreds of companies giving away FREE CARS!\\n \\nChevy Blazer\\nDodge Durango\\nFord Windstar\\nHonda Civic And More...!\\nCLICK HERE!We take your privacy very seriously and it is our policy never to send unwanted email messages. This message has been sent to gibbs@midrange.com because you are a member of Consumer Today or you signed up with one of our marketing partners. To unsubscribe, simply click here (please allow 3-5 business days for your unsubscribe request to be processed). Questions or comments - send them to customerservice@consumertoday.net.\",\n          \"When Economy goes down, WE go UP !$3000 COMMISSION per Sale for YOU !!\\n \\nWith the POWER of F I N A N C I N G  !\\nThis is for SERIOUS people ONLY\\n \\nMAKE huge $3000 COMMISSIONS on every SALE!\\nFor only $300 down and $149 per month!\\n \\nPart time earnings: $ 6000 per month\\nFull time earnings: $15,000 to 25,000 per month\\nEasy, fast and fun !!\\nStrictly NOT MLM !!\\n \\nHere YOU EARN MONEY IMMEDIATELY!\\nIf We have to prove it to You, We can and We will.\\nMy personal Bank Statement will speak for it.\\n NEW ! ASSURED    F I N A N C I N G    AVAILABLE !!\\nWhere else DO YOU MAKE $3000 per sale ??\\nOur Lease Program lets YOU start right away - It's Fast and Easy!\\n \\nDo not miss out, as THIS is a ONE TIME OFFER!\\nFree training included!\\nProgram available in USA and Canada only!\\n REQUEST more free info NOW!\\nsend an email to:      PaulBennert@excite.com\\nwith \\\"SEND INFO\\\" \\nin the subject line\\n(do NOT click REPLY!)\\n \\n \\n \\n \\n \\n \\n \\n \\nTo remove, please send an email with REMOVE\\nin the subject line to:  Plutoristal@excite.com\\n \\n\"\n        ],\n        \"semantic_type\": \"\",\n        \"description\": \"\"\n      }\n    },\n    {\n      \"column\": \"Label\",\n      \"properties\": {\n        \"dtype\": \"number\",\n        \"std\": 0,\n        \"min\": 0,\n        \"max\": 1,\n        \"num_unique_values\": 2,\n        \"samples\": [\n          0,\n          1\n        ],\n        \"semantic_type\": \"\",\n        \"description\": \"\"\n      }\n    }\n  ]\n}"
            }
          },
          "metadata": {},
          "execution_count": 7
        }
      ],
      "source": [
        "df.head()"
      ]
    },
    {
      "cell_type": "code",
      "execution_count": null,
      "metadata": {
        "colab": {
          "base_uri": "https://localhost:8080/",
          "height": 206
        },
        "id": "ylB2UKK4LPSh",
        "outputId": "67d79c13-c4af-4e06-dd60-9d8b6f925637"
      },
      "outputs": [
        {
          "output_type": "execute_result",
          "data": {
            "text/plain": [
              "   Unnamed: 0.1  Unnamed: 0  \\\n",
              "0          2469        2469   \n",
              "1          5063        5063   \n",
              "2         12564       12564   \n",
              "3          2796        2796   \n",
              "4          1468        1468   \n",
              "\n",
              "                                                Body  Label  \n",
              "0  Subject: stock promo mover : cwtd\\n * * * urge...      1  \n",
              "1  Subject: are you listed in major search engine...      1  \n",
              "2  Subject: important information thu , 30 jun 20...      1  \n",
              "3  Subject: = ? utf - 8 ? q ? bask your life with...      1  \n",
              "4  Subject: \" bidstogo \" is places to go , things...      1  "
            ],
            "text/html": [
              "\n",
              "  <div id=\"df-baa25623-e8d1-40f0-b1f3-bd9459f474fa\" class=\"colab-df-container\">\n",
              "    <div>\n",
              "<style scoped>\n",
              "    .dataframe tbody tr th:only-of-type {\n",
              "        vertical-align: middle;\n",
              "    }\n",
              "\n",
              "    .dataframe tbody tr th {\n",
              "        vertical-align: top;\n",
              "    }\n",
              "\n",
              "    .dataframe thead th {\n",
              "        text-align: right;\n",
              "    }\n",
              "</style>\n",
              "<table border=\"1\" class=\"dataframe\">\n",
              "  <thead>\n",
              "    <tr style=\"text-align: right;\">\n",
              "      <th></th>\n",
              "      <th>Unnamed: 0.1</th>\n",
              "      <th>Unnamed: 0</th>\n",
              "      <th>Body</th>\n",
              "      <th>Label</th>\n",
              "    </tr>\n",
              "  </thead>\n",
              "  <tbody>\n",
              "    <tr>\n",
              "      <th>0</th>\n",
              "      <td>2469</td>\n",
              "      <td>2469</td>\n",
              "      <td>Subject: stock promo mover : cwtd\\n * * * urge...</td>\n",
              "      <td>1</td>\n",
              "    </tr>\n",
              "    <tr>\n",
              "      <th>1</th>\n",
              "      <td>5063</td>\n",
              "      <td>5063</td>\n",
              "      <td>Subject: are you listed in major search engine...</td>\n",
              "      <td>1</td>\n",
              "    </tr>\n",
              "    <tr>\n",
              "      <th>2</th>\n",
              "      <td>12564</td>\n",
              "      <td>12564</td>\n",
              "      <td>Subject: important information thu , 30 jun 20...</td>\n",
              "      <td>1</td>\n",
              "    </tr>\n",
              "    <tr>\n",
              "      <th>3</th>\n",
              "      <td>2796</td>\n",
              "      <td>2796</td>\n",
              "      <td>Subject: = ? utf - 8 ? q ? bask your life with...</td>\n",
              "      <td>1</td>\n",
              "    </tr>\n",
              "    <tr>\n",
              "      <th>4</th>\n",
              "      <td>1468</td>\n",
              "      <td>1468</td>\n",
              "      <td>Subject: \" bidstogo \" is places to go , things...</td>\n",
              "      <td>1</td>\n",
              "    </tr>\n",
              "  </tbody>\n",
              "</table>\n",
              "</div>\n",
              "    <div class=\"colab-df-buttons\">\n",
              "\n",
              "  <div class=\"colab-df-container\">\n",
              "    <button class=\"colab-df-convert\" onclick=\"convertToInteractive('df-baa25623-e8d1-40f0-b1f3-bd9459f474fa')\"\n",
              "            title=\"Convert this dataframe to an interactive table.\"\n",
              "            style=\"display:none;\">\n",
              "\n",
              "  <svg xmlns=\"http://www.w3.org/2000/svg\" height=\"24px\" viewBox=\"0 -960 960 960\">\n",
              "    <path d=\"M120-120v-720h720v720H120Zm60-500h600v-160H180v160Zm220 220h160v-160H400v160Zm0 220h160v-160H400v160ZM180-400h160v-160H180v160Zm440 0h160v-160H620v160ZM180-180h160v-160H180v160Zm440 0h160v-160H620v160Z\"/>\n",
              "  </svg>\n",
              "    </button>\n",
              "\n",
              "  <style>\n",
              "    .colab-df-container {\n",
              "      display:flex;\n",
              "      gap: 12px;\n",
              "    }\n",
              "\n",
              "    .colab-df-convert {\n",
              "      background-color: #E8F0FE;\n",
              "      border: none;\n",
              "      border-radius: 50%;\n",
              "      cursor: pointer;\n",
              "      display: none;\n",
              "      fill: #1967D2;\n",
              "      height: 32px;\n",
              "      padding: 0 0 0 0;\n",
              "      width: 32px;\n",
              "    }\n",
              "\n",
              "    .colab-df-convert:hover {\n",
              "      background-color: #E2EBFA;\n",
              "      box-shadow: 0px 1px 2px rgba(60, 64, 67, 0.3), 0px 1px 3px 1px rgba(60, 64, 67, 0.15);\n",
              "      fill: #174EA6;\n",
              "    }\n",
              "\n",
              "    .colab-df-buttons div {\n",
              "      margin-bottom: 4px;\n",
              "    }\n",
              "\n",
              "    [theme=dark] .colab-df-convert {\n",
              "      background-color: #3B4455;\n",
              "      fill: #D2E3FC;\n",
              "    }\n",
              "\n",
              "    [theme=dark] .colab-df-convert:hover {\n",
              "      background-color: #434B5C;\n",
              "      box-shadow: 0px 1px 3px 1px rgba(0, 0, 0, 0.15);\n",
              "      filter: drop-shadow(0px 1px 2px rgba(0, 0, 0, 0.3));\n",
              "      fill: #FFFFFF;\n",
              "    }\n",
              "  </style>\n",
              "\n",
              "    <script>\n",
              "      const buttonEl =\n",
              "        document.querySelector('#df-baa25623-e8d1-40f0-b1f3-bd9459f474fa button.colab-df-convert');\n",
              "      buttonEl.style.display =\n",
              "        google.colab.kernel.accessAllowed ? 'block' : 'none';\n",
              "\n",
              "      async function convertToInteractive(key) {\n",
              "        const element = document.querySelector('#df-baa25623-e8d1-40f0-b1f3-bd9459f474fa');\n",
              "        const dataTable =\n",
              "          await google.colab.kernel.invokeFunction('convertToInteractive',\n",
              "                                                    [key], {});\n",
              "        if (!dataTable) return;\n",
              "\n",
              "        const docLinkHtml = 'Like what you see? Visit the ' +\n",
              "          '<a target=\"_blank\" href=https://colab.research.google.com/notebooks/data_table.ipynb>data table notebook</a>'\n",
              "          + ' to learn more about interactive tables.';\n",
              "        element.innerHTML = '';\n",
              "        dataTable['output_type'] = 'display_data';\n",
              "        await google.colab.output.renderOutput(dataTable, element);\n",
              "        const docLink = document.createElement('div');\n",
              "        docLink.innerHTML = docLinkHtml;\n",
              "        element.appendChild(docLink);\n",
              "      }\n",
              "    </script>\n",
              "  </div>\n",
              "\n",
              "\n",
              "<div id=\"df-df335587-d9fa-4431-bb4e-c592f4867ada\">\n",
              "  <button class=\"colab-df-quickchart\" onclick=\"quickchart('df-df335587-d9fa-4431-bb4e-c592f4867ada')\"\n",
              "            title=\"Suggest charts\"\n",
              "            style=\"display:none;\">\n",
              "\n",
              "<svg xmlns=\"http://www.w3.org/2000/svg\" height=\"24px\"viewBox=\"0 0 24 24\"\n",
              "     width=\"24px\">\n",
              "    <g>\n",
              "        <path d=\"M19 3H5c-1.1 0-2 .9-2 2v14c0 1.1.9 2 2 2h14c1.1 0 2-.9 2-2V5c0-1.1-.9-2-2-2zM9 17H7v-7h2v7zm4 0h-2V7h2v10zm4 0h-2v-4h2v4z\"/>\n",
              "    </g>\n",
              "</svg>\n",
              "  </button>\n",
              "\n",
              "<style>\n",
              "  .colab-df-quickchart {\n",
              "      --bg-color: #E8F0FE;\n",
              "      --fill-color: #1967D2;\n",
              "      --hover-bg-color: #E2EBFA;\n",
              "      --hover-fill-color: #174EA6;\n",
              "      --disabled-fill-color: #AAA;\n",
              "      --disabled-bg-color: #DDD;\n",
              "  }\n",
              "\n",
              "  [theme=dark] .colab-df-quickchart {\n",
              "      --bg-color: #3B4455;\n",
              "      --fill-color: #D2E3FC;\n",
              "      --hover-bg-color: #434B5C;\n",
              "      --hover-fill-color: #FFFFFF;\n",
              "      --disabled-bg-color: #3B4455;\n",
              "      --disabled-fill-color: #666;\n",
              "  }\n",
              "\n",
              "  .colab-df-quickchart {\n",
              "    background-color: var(--bg-color);\n",
              "    border: none;\n",
              "    border-radius: 50%;\n",
              "    cursor: pointer;\n",
              "    display: none;\n",
              "    fill: var(--fill-color);\n",
              "    height: 32px;\n",
              "    padding: 0;\n",
              "    width: 32px;\n",
              "  }\n",
              "\n",
              "  .colab-df-quickchart:hover {\n",
              "    background-color: var(--hover-bg-color);\n",
              "    box-shadow: 0 1px 2px rgba(60, 64, 67, 0.3), 0 1px 3px 1px rgba(60, 64, 67, 0.15);\n",
              "    fill: var(--button-hover-fill-color);\n",
              "  }\n",
              "\n",
              "  .colab-df-quickchart-complete:disabled,\n",
              "  .colab-df-quickchart-complete:disabled:hover {\n",
              "    background-color: var(--disabled-bg-color);\n",
              "    fill: var(--disabled-fill-color);\n",
              "    box-shadow: none;\n",
              "  }\n",
              "\n",
              "  .colab-df-spinner {\n",
              "    border: 2px solid var(--fill-color);\n",
              "    border-color: transparent;\n",
              "    border-bottom-color: var(--fill-color);\n",
              "    animation:\n",
              "      spin 1s steps(1) infinite;\n",
              "  }\n",
              "\n",
              "  @keyframes spin {\n",
              "    0% {\n",
              "      border-color: transparent;\n",
              "      border-bottom-color: var(--fill-color);\n",
              "      border-left-color: var(--fill-color);\n",
              "    }\n",
              "    20% {\n",
              "      border-color: transparent;\n",
              "      border-left-color: var(--fill-color);\n",
              "      border-top-color: var(--fill-color);\n",
              "    }\n",
              "    30% {\n",
              "      border-color: transparent;\n",
              "      border-left-color: var(--fill-color);\n",
              "      border-top-color: var(--fill-color);\n",
              "      border-right-color: var(--fill-color);\n",
              "    }\n",
              "    40% {\n",
              "      border-color: transparent;\n",
              "      border-right-color: var(--fill-color);\n",
              "      border-top-color: var(--fill-color);\n",
              "    }\n",
              "    60% {\n",
              "      border-color: transparent;\n",
              "      border-right-color: var(--fill-color);\n",
              "    }\n",
              "    80% {\n",
              "      border-color: transparent;\n",
              "      border-right-color: var(--fill-color);\n",
              "      border-bottom-color: var(--fill-color);\n",
              "    }\n",
              "    90% {\n",
              "      border-color: transparent;\n",
              "      border-bottom-color: var(--fill-color);\n",
              "    }\n",
              "  }\n",
              "</style>\n",
              "\n",
              "  <script>\n",
              "    async function quickchart(key) {\n",
              "      const quickchartButtonEl =\n",
              "        document.querySelector('#' + key + ' button');\n",
              "      quickchartButtonEl.disabled = true;  // To prevent multiple clicks.\n",
              "      quickchartButtonEl.classList.add('colab-df-spinner');\n",
              "      try {\n",
              "        const charts = await google.colab.kernel.invokeFunction(\n",
              "            'suggestCharts', [key], {});\n",
              "      } catch (error) {\n",
              "        console.error('Error during call to suggestCharts:', error);\n",
              "      }\n",
              "      quickchartButtonEl.classList.remove('colab-df-spinner');\n",
              "      quickchartButtonEl.classList.add('colab-df-quickchart-complete');\n",
              "    }\n",
              "    (() => {\n",
              "      let quickchartButtonEl =\n",
              "        document.querySelector('#df-df335587-d9fa-4431-bb4e-c592f4867ada button');\n",
              "      quickchartButtonEl.style.display =\n",
              "        google.colab.kernel.accessAllowed ? 'block' : 'none';\n",
              "    })();\n",
              "  </script>\n",
              "</div>\n",
              "    </div>\n",
              "  </div>\n"
            ],
            "application/vnd.google.colaboratory.intrinsic+json": {
              "type": "dataframe",
              "variable_name": "df1",
              "summary": "{\n  \"name\": \"df1\",\n  \"rows\": 10000,\n  \"fields\": [\n    {\n      \"column\": \"Unnamed: 0.1\",\n      \"properties\": {\n        \"dtype\": \"number\",\n        \"std\": 9735,\n        \"min\": 8,\n        \"max\": 33698,\n        \"num_unique_values\": 10000,\n        \"samples\": [\n          32819,\n          918,\n          6520\n        ],\n        \"semantic_type\": \"\",\n        \"description\": \"\"\n      }\n    },\n    {\n      \"column\": \"Unnamed: 0\",\n      \"properties\": {\n        \"dtype\": \"number\",\n        \"std\": 9735,\n        \"min\": 8,\n        \"max\": 33698,\n        \"num_unique_values\": 10000,\n        \"samples\": [\n          32819,\n          918,\n          6520\n        ],\n        \"semantic_type\": \"\",\n        \"description\": \"\"\n      }\n    },\n    {\n      \"column\": \"Body\",\n      \"properties\": {\n        \"dtype\": \"string\",\n        \"num_unique_values\": 9687,\n        \"samples\": [\n          \"Subject: re : chapter\\n dear vince ,\\n that ' s fine - i didn ' t know if yours had changed as grant ' s did - i have\\n your earlier part and that has already been type set .\\n best regards .\\n chris .\\n - - - - - original message - - - - -\\n from : \\\" vince j kaminski \\\"\\n to : \\\" chris strickland \\\"\\n cc : \\\" vince j kaminski \\\"\\n sent : tuesday , august 29 , 2000 5 : 18 am\\n subject : re : chapter\\n >\\n >\\n > chris ,\\n >\\n > my part has not changed for some time ( since early july ) .\\n >\\n > i sent the last vintage of corrections to you when i was in sydney .\\n > you can send the version you consider final to us just to double check .\\n >\\n > i took the liberty of sending our chapter to darrell duffie and he liked\\n it .\\n > what is more important he did not find any error .\\n >\\n >\\n > i shell send you my comments on the article for robin in a day or so .\\n >\\n > vince\\n >\\n >\\n >\\n >\\n >\\n >\\n > \\\" chris strickland \\\" on 08 / 28 / 2000 02 : 55 : 31 pm\\n >\\n > please respond to \\\" chris strickland \\\"\\n >\\n > to : ,\\n > cc :\\n > subject : chapter\\n >\\n >\\n >\\n > hi vince ,\\n >\\n > how are things with you ? well i hope . do you have the latest version of\\n your\\n > part of chapter 3 ? ( i think grant has sent thru a seperate , updated\\n version to\\n > you , which has been typeset ) . everything else has been tied up and we\\n will go\\n > with the version we have , unless we hear otherwise .\\n >\\n > many thanks and best regards .\\n >\\n > chris .\\n >\\n >\\n >\\n >\\n >\\n >\\n >\\n >\",\n          \"Subject: 98 - 6892 overflow\\n can you please extend sitara deal ticket 16888 to the 15 th ? 14 dec . flowed\\n on this day .\\n thanks\\n - jackie -\",\n          \"Subject: unique idea : $ 50 no wager requirement bonus from vegas towers\\n please click here to opt out of future e - mailings .\\n\"\n        ],\n        \"semantic_type\": \"\",\n        \"description\": \"\"\n      }\n    },\n    {\n      \"column\": \"Label\",\n      \"properties\": {\n        \"dtype\": \"number\",\n        \"std\": 0,\n        \"min\": 0,\n        \"max\": 1,\n        \"num_unique_values\": 2,\n        \"samples\": [\n          0,\n          1\n        ],\n        \"semantic_type\": \"\",\n        \"description\": \"\"\n      }\n    }\n  ]\n}"
            }
          },
          "metadata": {},
          "execution_count": 8
        }
      ],
      "source": [
        "df1.head()"
      ]
    },
    {
      "cell_type": "code",
      "execution_count": null,
      "metadata": {
        "colab": {
          "base_uri": "https://localhost:8080/",
          "height": 206
        },
        "id": "EoMDhWH0LWAr",
        "outputId": "c4322eb1-7d58-46b9-a888-35a0154383ea"
      },
      "outputs": [
        {
          "output_type": "execute_result",
          "data": {
            "text/plain": [
              "   Unnamed: 0                                               Body  Label\n",
              "0           0  Subject: great part-time or summer job !\\n \\n ...      1\n",
              "1           1  Subject: auto insurance rates too high ?\\n \\n ...      1\n",
              "2           2  Subject: do want the best and economical hunti...      1\n",
              "3           3  Subject: email 57 million people for $ 99\\n \\n...      1\n",
              "4           4  Subject: do n't miss these !\\n \\n attention ! ...      1"
            ],
            "text/html": [
              "\n",
              "  <div id=\"df-3ce815dc-d4c5-446e-8e9c-a1297ec69b3e\" class=\"colab-df-container\">\n",
              "    <div>\n",
              "<style scoped>\n",
              "    .dataframe tbody tr th:only-of-type {\n",
              "        vertical-align: middle;\n",
              "    }\n",
              "\n",
              "    .dataframe tbody tr th {\n",
              "        vertical-align: top;\n",
              "    }\n",
              "\n",
              "    .dataframe thead th {\n",
              "        text-align: right;\n",
              "    }\n",
              "</style>\n",
              "<table border=\"1\" class=\"dataframe\">\n",
              "  <thead>\n",
              "    <tr style=\"text-align: right;\">\n",
              "      <th></th>\n",
              "      <th>Unnamed: 0</th>\n",
              "      <th>Body</th>\n",
              "      <th>Label</th>\n",
              "    </tr>\n",
              "  </thead>\n",
              "  <tbody>\n",
              "    <tr>\n",
              "      <th>0</th>\n",
              "      <td>0</td>\n",
              "      <td>Subject: great part-time or summer job !\\n \\n ...</td>\n",
              "      <td>1</td>\n",
              "    </tr>\n",
              "    <tr>\n",
              "      <th>1</th>\n",
              "      <td>1</td>\n",
              "      <td>Subject: auto insurance rates too high ?\\n \\n ...</td>\n",
              "      <td>1</td>\n",
              "    </tr>\n",
              "    <tr>\n",
              "      <th>2</th>\n",
              "      <td>2</td>\n",
              "      <td>Subject: do want the best and economical hunti...</td>\n",
              "      <td>1</td>\n",
              "    </tr>\n",
              "    <tr>\n",
              "      <th>3</th>\n",
              "      <td>3</td>\n",
              "      <td>Subject: email 57 million people for $ 99\\n \\n...</td>\n",
              "      <td>1</td>\n",
              "    </tr>\n",
              "    <tr>\n",
              "      <th>4</th>\n",
              "      <td>4</td>\n",
              "      <td>Subject: do n't miss these !\\n \\n attention ! ...</td>\n",
              "      <td>1</td>\n",
              "    </tr>\n",
              "  </tbody>\n",
              "</table>\n",
              "</div>\n",
              "    <div class=\"colab-df-buttons\">\n",
              "\n",
              "  <div class=\"colab-df-container\">\n",
              "    <button class=\"colab-df-convert\" onclick=\"convertToInteractive('df-3ce815dc-d4c5-446e-8e9c-a1297ec69b3e')\"\n",
              "            title=\"Convert this dataframe to an interactive table.\"\n",
              "            style=\"display:none;\">\n",
              "\n",
              "  <svg xmlns=\"http://www.w3.org/2000/svg\" height=\"24px\" viewBox=\"0 -960 960 960\">\n",
              "    <path d=\"M120-120v-720h720v720H120Zm60-500h600v-160H180v160Zm220 220h160v-160H400v160Zm0 220h160v-160H400v160ZM180-400h160v-160H180v160Zm440 0h160v-160H620v160ZM180-180h160v-160H180v160Zm440 0h160v-160H620v160Z\"/>\n",
              "  </svg>\n",
              "    </button>\n",
              "\n",
              "  <style>\n",
              "    .colab-df-container {\n",
              "      display:flex;\n",
              "      gap: 12px;\n",
              "    }\n",
              "\n",
              "    .colab-df-convert {\n",
              "      background-color: #E8F0FE;\n",
              "      border: none;\n",
              "      border-radius: 50%;\n",
              "      cursor: pointer;\n",
              "      display: none;\n",
              "      fill: #1967D2;\n",
              "      height: 32px;\n",
              "      padding: 0 0 0 0;\n",
              "      width: 32px;\n",
              "    }\n",
              "\n",
              "    .colab-df-convert:hover {\n",
              "      background-color: #E2EBFA;\n",
              "      box-shadow: 0px 1px 2px rgba(60, 64, 67, 0.3), 0px 1px 3px 1px rgba(60, 64, 67, 0.15);\n",
              "      fill: #174EA6;\n",
              "    }\n",
              "\n",
              "    .colab-df-buttons div {\n",
              "      margin-bottom: 4px;\n",
              "    }\n",
              "\n",
              "    [theme=dark] .colab-df-convert {\n",
              "      background-color: #3B4455;\n",
              "      fill: #D2E3FC;\n",
              "    }\n",
              "\n",
              "    [theme=dark] .colab-df-convert:hover {\n",
              "      background-color: #434B5C;\n",
              "      box-shadow: 0px 1px 3px 1px rgba(0, 0, 0, 0.15);\n",
              "      filter: drop-shadow(0px 1px 2px rgba(0, 0, 0, 0.3));\n",
              "      fill: #FFFFFF;\n",
              "    }\n",
              "  </style>\n",
              "\n",
              "    <script>\n",
              "      const buttonEl =\n",
              "        document.querySelector('#df-3ce815dc-d4c5-446e-8e9c-a1297ec69b3e button.colab-df-convert');\n",
              "      buttonEl.style.display =\n",
              "        google.colab.kernel.accessAllowed ? 'block' : 'none';\n",
              "\n",
              "      async function convertToInteractive(key) {\n",
              "        const element = document.querySelector('#df-3ce815dc-d4c5-446e-8e9c-a1297ec69b3e');\n",
              "        const dataTable =\n",
              "          await google.colab.kernel.invokeFunction('convertToInteractive',\n",
              "                                                    [key], {});\n",
              "        if (!dataTable) return;\n",
              "\n",
              "        const docLinkHtml = 'Like what you see? Visit the ' +\n",
              "          '<a target=\"_blank\" href=https://colab.research.google.com/notebooks/data_table.ipynb>data table notebook</a>'\n",
              "          + ' to learn more about interactive tables.';\n",
              "        element.innerHTML = '';\n",
              "        dataTable['output_type'] = 'display_data';\n",
              "        await google.colab.output.renderOutput(dataTable, element);\n",
              "        const docLink = document.createElement('div');\n",
              "        docLink.innerHTML = docLinkHtml;\n",
              "        element.appendChild(docLink);\n",
              "      }\n",
              "    </script>\n",
              "  </div>\n",
              "\n",
              "\n",
              "<div id=\"df-9e3c3685-47c7-4357-9c99-0dc922aee0b1\">\n",
              "  <button class=\"colab-df-quickchart\" onclick=\"quickchart('df-9e3c3685-47c7-4357-9c99-0dc922aee0b1')\"\n",
              "            title=\"Suggest charts\"\n",
              "            style=\"display:none;\">\n",
              "\n",
              "<svg xmlns=\"http://www.w3.org/2000/svg\" height=\"24px\"viewBox=\"0 0 24 24\"\n",
              "     width=\"24px\">\n",
              "    <g>\n",
              "        <path d=\"M19 3H5c-1.1 0-2 .9-2 2v14c0 1.1.9 2 2 2h14c1.1 0 2-.9 2-2V5c0-1.1-.9-2-2-2zM9 17H7v-7h2v7zm4 0h-2V7h2v10zm4 0h-2v-4h2v4z\"/>\n",
              "    </g>\n",
              "</svg>\n",
              "  </button>\n",
              "\n",
              "<style>\n",
              "  .colab-df-quickchart {\n",
              "      --bg-color: #E8F0FE;\n",
              "      --fill-color: #1967D2;\n",
              "      --hover-bg-color: #E2EBFA;\n",
              "      --hover-fill-color: #174EA6;\n",
              "      --disabled-fill-color: #AAA;\n",
              "      --disabled-bg-color: #DDD;\n",
              "  }\n",
              "\n",
              "  [theme=dark] .colab-df-quickchart {\n",
              "      --bg-color: #3B4455;\n",
              "      --fill-color: #D2E3FC;\n",
              "      --hover-bg-color: #434B5C;\n",
              "      --hover-fill-color: #FFFFFF;\n",
              "      --disabled-bg-color: #3B4455;\n",
              "      --disabled-fill-color: #666;\n",
              "  }\n",
              "\n",
              "  .colab-df-quickchart {\n",
              "    background-color: var(--bg-color);\n",
              "    border: none;\n",
              "    border-radius: 50%;\n",
              "    cursor: pointer;\n",
              "    display: none;\n",
              "    fill: var(--fill-color);\n",
              "    height: 32px;\n",
              "    padding: 0;\n",
              "    width: 32px;\n",
              "  }\n",
              "\n",
              "  .colab-df-quickchart:hover {\n",
              "    background-color: var(--hover-bg-color);\n",
              "    box-shadow: 0 1px 2px rgba(60, 64, 67, 0.3), 0 1px 3px 1px rgba(60, 64, 67, 0.15);\n",
              "    fill: var(--button-hover-fill-color);\n",
              "  }\n",
              "\n",
              "  .colab-df-quickchart-complete:disabled,\n",
              "  .colab-df-quickchart-complete:disabled:hover {\n",
              "    background-color: var(--disabled-bg-color);\n",
              "    fill: var(--disabled-fill-color);\n",
              "    box-shadow: none;\n",
              "  }\n",
              "\n",
              "  .colab-df-spinner {\n",
              "    border: 2px solid var(--fill-color);\n",
              "    border-color: transparent;\n",
              "    border-bottom-color: var(--fill-color);\n",
              "    animation:\n",
              "      spin 1s steps(1) infinite;\n",
              "  }\n",
              "\n",
              "  @keyframes spin {\n",
              "    0% {\n",
              "      border-color: transparent;\n",
              "      border-bottom-color: var(--fill-color);\n",
              "      border-left-color: var(--fill-color);\n",
              "    }\n",
              "    20% {\n",
              "      border-color: transparent;\n",
              "      border-left-color: var(--fill-color);\n",
              "      border-top-color: var(--fill-color);\n",
              "    }\n",
              "    30% {\n",
              "      border-color: transparent;\n",
              "      border-left-color: var(--fill-color);\n",
              "      border-top-color: var(--fill-color);\n",
              "      border-right-color: var(--fill-color);\n",
              "    }\n",
              "    40% {\n",
              "      border-color: transparent;\n",
              "      border-right-color: var(--fill-color);\n",
              "      border-top-color: var(--fill-color);\n",
              "    }\n",
              "    60% {\n",
              "      border-color: transparent;\n",
              "      border-right-color: var(--fill-color);\n",
              "    }\n",
              "    80% {\n",
              "      border-color: transparent;\n",
              "      border-right-color: var(--fill-color);\n",
              "      border-bottom-color: var(--fill-color);\n",
              "    }\n",
              "    90% {\n",
              "      border-color: transparent;\n",
              "      border-bottom-color: var(--fill-color);\n",
              "    }\n",
              "  }\n",
              "</style>\n",
              "\n",
              "  <script>\n",
              "    async function quickchart(key) {\n",
              "      const quickchartButtonEl =\n",
              "        document.querySelector('#' + key + ' button');\n",
              "      quickchartButtonEl.disabled = true;  // To prevent multiple clicks.\n",
              "      quickchartButtonEl.classList.add('colab-df-spinner');\n",
              "      try {\n",
              "        const charts = await google.colab.kernel.invokeFunction(\n",
              "            'suggestCharts', [key], {});\n",
              "      } catch (error) {\n",
              "        console.error('Error during call to suggestCharts:', error);\n",
              "      }\n",
              "      quickchartButtonEl.classList.remove('colab-df-spinner');\n",
              "      quickchartButtonEl.classList.add('colab-df-quickchart-complete');\n",
              "    }\n",
              "    (() => {\n",
              "      let quickchartButtonEl =\n",
              "        document.querySelector('#df-9e3c3685-47c7-4357-9c99-0dc922aee0b1 button');\n",
              "      quickchartButtonEl.style.display =\n",
              "        google.colab.kernel.accessAllowed ? 'block' : 'none';\n",
              "    })();\n",
              "  </script>\n",
              "</div>\n",
              "    </div>\n",
              "  </div>\n"
            ],
            "application/vnd.google.colaboratory.intrinsic+json": {
              "type": "dataframe",
              "variable_name": "df2",
              "summary": "{\n  \"name\": \"df2\",\n  \"rows\": 2605,\n  \"fields\": [\n    {\n      \"column\": \"Unnamed: 0\",\n      \"properties\": {\n        \"dtype\": \"number\",\n        \"std\": 752,\n        \"min\": 0,\n        \"max\": 2604,\n        \"num_unique_values\": 2605,\n        \"samples\": [\n          782,\n          786,\n          602\n        ],\n        \"semantic_type\": \"\",\n        \"description\": \"\"\n      }\n    },\n    {\n      \"column\": \"Body\",\n      \"properties\": {\n        \"dtype\": \"string\",\n        \"num_unique_values\": 2591,\n        \"samples\": [\n          \"Subject: re : 6 . 943 , disc : non - decimal counting systems\\n \\n members may be interested in the work of dr glendon lean ( a past colleague of mine in png ) who passed away in march this year after recording his work of 22 years on the counting systems of papua new guinea and oceania . he documented in 24 appendices ( bound in four volumes ) counting systems of over 883 languages , most of which were not a simple base 10 cycle . on top of this , his thesis also suggested that the origins of counting systems are to be found in indigenous cultures and while they were spread they may have also spontaneously developed . he included records of body tally systems in which numbers were also used for parts of the body in an orderly system ; cycles of every number up to ten except seven and nine ( i think from memory ) with many having secondary cycles . he covered austronesian languages and papuan languages . printed copies of the volumes of appendices are available from chris wilkins , dept . of mathematics and statistics , png university of technology , lae , private mail bag , papua new guinea . professor alan bishop , education , monash university melbourne is also able to assist with information on this . i am hoping to look at some further mathematical connections in languages in east timor . if anyone has any information on this , could you please email me . thank you , dr kay owens , faculty of education , university of western sydney , macarthur , po box 555 , campbelltown , nsw 2560 australia .\\n\",\n          \"Subject: sum : sign-singing\\n \\n a few weeks ago i posted the following query : ) here in taiwan there is a tv program in which people compete ) to see who is the best singer . there are different categories ) for different types of songs / languages , etc . , and one category ) is for \\\" sign singing \\\" . a tape of a song is played , and a signer ) signs along with the words of the song ( all those i ' ve seen ) compete were not deaf ) . i was wondering if this is common in ) other countries , and if so , what the criteria are for judging ) who is \\\" the best \\\" , and also if it is done at all by people ) who are deaf . thanks . i received a number of interesting responses : ) from jane edwards ( edwards @ cogsci . berkeley . edu ) : ) thought not pertaining to contests or even singing , for that matter , ) i saw something on pbs a couple months back which i wanted to mention . ) they showed a \\\" music appreciation \\\" class taught to totally deaf high school ) kids , in which they each were wearing pad on the back , which converts the ) acoustic output into pressure stimulation . the students were dancing to ) the music , and commenting on different types of music . they were n't ) singing / signing to it , but perhaps they could ? ) from jakob dempsey ( jakob @ u . washington . edu ) : ) one of the largest , most popular choruses in seattle regularly ) has a sign-language \\\" interpreter \\\" on stage during performances ; the ) particular one who has been doing it for a long time is not deaf ; he seems ) to also appeal a lot to the general audience with his expressive , exaggerated ) style . ) from midori yonezawa ( yonezawa @ student . msu . edu ) : ) i believe that there is a sign singing contest because music can be shared ) by everybody and it is natural to want to show different expressions each ) other . ) i learned japanese sign language in japan ( a little bit ) , and sometimes i ) practiced sign singing , too . i went to concerts where the singers were ) all professional \\\" shanson \\\" singers ( \\\" shanson \\\" is french loan into japanese ) . ) they have a concert every year for those who are handicapped , not only ) for deaf people . some singers sang with sign language at the same time as ) they sang vocally , and when the singers did n't do so there was an interpreter ) of sign language on the stage . i noticed and surprised that the ways of ) expressing by sing language are very different from each other and from ) occasions , e . g . fast / slow , soft / pressing , emotional / calm , etc , etc . . ) i also remember a tv program ( on nhk ) about equipment to help those who have ) difficulty in hearing . a technical group developed the equipment so that ) they can hear music . ) from peggy swartzel lott ( pslott @ utxvms . cc . utexas . edu ) : ) when i was a sign language interpreter and interpreter coordinator in ) san diego , california , there was quite a to-do a few years back over ) the issue of song sign . i first remember encountering song sign in ) the early to mid 70 's when a few groups of deaf performers ( i . e . ) musign ) toured the country performing popular songs in sign along ) with recorded sound tracks . later a pair of excellent performers , ) sharon neumann solow and gary sanderson , both individuals who were ) raised with deaf parents and fluent in asl , toured and performed ) songs in sign . ) ) the controversy in san diego centered on a local \\\" annual song sign ) competition \\\" hosted by the area 's rid branch , sanscrid . the ) competition was open to the public and was established both for ) a general \\\" deaf awareness \\\" activity and to raise funds for various ) purposes . prizes were given out for best individual song , best ) group , etc . the performance of the competition was quite popular ) and seemed to be growing in attendance and participation each year . ) ) a group of deaf people contested the competition on various grounds . ) the points i remember best about their objection ( because i ) personally found these issues most compelling ) were that the ) actual performances were offensive to some native signers because ) of the way putting sign to music distorted the linguistic and ) aesthetic dynamics of asl . that is , in order to make a signed ) narrative conform to the lyrics of a song , to translate it ) simultaneously with the recorded music , many grammatical patterns ) in normal signing had to be altered . often the performance bore ) little resemblance to normal signing . ) ) there was great debate for a while in the community over this issue . ) certain deaf people and many hearing interpreters and sign ) students defended the practice of song sign . some insisted that ) they be allowed to exercise their own artistic talents in playing ) with signing in this way . others felt that song sign provided an ) important bridge that enabled many uninformed hearing people to ) become aware of and appreciate the beauty of signing . the ) community was divided over the issue and eventuall y the whole ) thing was dropped . in the meantime , however , certain concerns ) of deaf people were brought to the surface and continued to be a ) source of discussion : issues about who has the right to make poetic ) use of signing and what sorts of alterations in signing style are ) acceptable to native users and which are not . i found the whole ) debate quite interesting and was genuinely convinced by the ) argument of the deaf people who were opposed to the practice . ) from richard arnold ( richard . arnold @ vuw . ac . nz ) : ) here in new zealand we have an annual new zealand sign langauge story - telling ) competition . mostly the competitors are deaf , but some codas also partipate as ) well . i have yet to see any hearing compete , however i know of some deaf for ) whom nz sign language is a second language learnt later in their adult life ) also participate . ) ) the winners are usually those who are quite fluent in nzsl . the criteria for ) judging is ( to my understanding ) as follows : ) ) - is the signing clear to the audience ? ) - does the signer get the audiences attention ? ) - is the story well structured ? ) - is the story within the time limits set ( usually 3 minutes ) ? ) - does the signer keep to the rules ? ) this usually consists of - no dirty jokes . ) - no overzealous religious contexts . ) ) the competitior must give a title to his / her story and state its type , ( ie true ) story , joke story , sad story , not true story etc . . . ) ) ) if the story exceeds the time limit a point is deducted . however the signer is ) not interrupted if he / she exceeds the limit but is allowed to complete the ) story ( unless it really is too long ! ! ! ) . ) ) sometimes , at the end the winner ( if he / she is popular with the audience is ) asked to repeat it or give another story ) . ) ) . . . sign-singing is not too common among the deaf community far as i am ) aware . it is mostly done in religious situations . i think it is n't a strong ) component of deaf culture . however story-telling is a strong part of deaf ) culture and especially of making jokes and light-hearted teasing . anyway thats ) my deaf experience here in new zealand . ) from karina bingham ( karina @ uhunix . uhcc . hawaii . edu ) : ) there is an african - american a cappella group called \\\" sweet honey in the ) rock \\\" who have a full-time signer in the group . she performs with them and ) signs her interpretations of the songs . they recently published a book ) for their 25th anniversary : ) ) reagon , bernice johnson . the long journey home . 1994 . ) ) in which the signer discusses her experiences in the deaf community and ) a deaf church ( where the congregation sang in sign ) . her parents were both ) deaf ; she is not . ) from marina mcintire ( mmcintir @ lynx . dac . neu . edu ) : ) you have inadvertently touched upon a very tender issue in the deaf ) community here in the us . first , let me say that only in the us have i ) seen this phenomenon . brits ( both deaf and hearing who work with them ) ) are confounded and amused by it . in the us , it used to be quite the ) thing to translate songs and develop routines to go with them , produce ) recitals and concerts , and the like . it arose , most likely , out of a ) strong church-related tradition of \\\" helpers \\\" for deaf people . ) ) in the last ten to fifteen years , however , deaf people have begun their ) own liberation . song - signing has been a casualty , by and large . it is ) viewed as representing one aspect of a pathological or clinical view of ) deafness , i . e . , that the worst \\\" loss \\\" resulting from deafness is music . ) this is , of course , far from the truth . and for culturally deaf people , ) music is a peculiarity belonging to the mainstream hearing world and of ) no consequence in their lives whatsoever . so * that * motive ( helping ) d / deaf people appreciate what they ' re missing ) is not acceptable . ) ) another complaint is that , by and large , translations are more ) influenced by the rhythm of the music than by any sense it might make in ) asl , presenting d / deaf audiences with nonsensical or distorted versions ) of signs and signed syntax . this arises partly , of course , out of the ) difficulty of translating any poetry into any language . ) ) worst of all , and perhaps most puzzling to d / deaf people , is the ) insistence of most song-signers on including things like \\\" tra la la \\\" or ) humming . there is * nothing * that could make less sense to a d / deaf ) audience ! ) ) i will say that i have seen some wonderful song-sign translations done , ) including some with rather elegant dance routines . sometimes these have ) been done by d / deaf people and sometimes by hearing folks . by and large , ) however , this practice is no longer an acceptable pasttime in our ) community . exceptions are made , ironically , for interpreters who work in ) theater . musical productions , because of their general inclusion of ) dance ( a more interesting visual event ) and costume / props / etc . . . are ) quite popular and well-attended ( comparatively speaking ) by d / deaf ) theatre-goers . many thanks to all those who replied . randy lapolla institute of history and philology academia sinica\\n\",\n          \"Subject: cssi conference on spatial cognition\\n \\n mind iii : annual conference of the cognitive science society of ireland theme : spatial cognition dublin city university , dublin , ireland august 17-19 , 1998 you are invited to participate in the annual conference of the cssi , on the theme of spatial cognition , at dublin city university from august 17-19 , 1998 . this conference will bring together researchers from different cognitive science disciplines ( psychology , computer science , linguistics , and cognitive geography ) who are studying different aspects of spatial cognition . the conference will provide a forum for researchers to share insights about different aspects of spatial cognition and from the perspective of different disciplines . the academic programme will begin at 9 : 00 a . m . on august 17th and end on 19th . the social programme will include a barbecue and ceili ( traditional irish dance ) on tuesday 18th and a tour and concert on wednesday after the end of the academic programme . for information on registration and accommodation , please visit the web page at : http : / / www . psych . ucsb . edu / ~ hegarty / cssi / the deadline for early registration is july 15th ( after that the price increases significantly ) . for questions about the programme , contact mary hegarty : hegarty @ psych . ucsb . edu for questions about registration and local arrangements , contact sean o nuallain : sonualla @ compapp . dcu . ie programme keynote speakers : michel denis , groupe cognition humaine , limsi-cnrs , universite de paris - sud andrew frank , department of geoinformation , technical university wien talk presentations : environmental spatial cognition g . allen , university of south carolina men and women , maps and minds : cognitive bases of sex-related differences in reading and interpreting maps c . christou & h . bulthoff , max - planck institute for biological cybernetics , tubingen using virtual environments to study spatial encoding d . jacobson , r . kitchin , t . garling , r . golledge & m . blades , university of california , santa barbara , queens university of belfast , gotenborg university learning a complex urban route without sight : comparing naturalistic versus laboratory measures p . peruch , f . gaunet , c . thinus - blanc , m - d . giroudo , cnrs , marseille & cnrs - college de france , paris real and imagined perspective changes in visual versus locomotor navigation m . j . sholl , boston college the accessibility of metric relations in self-to - object and object-to - object systems language and space t . baguley & s . j . payne , loughborough university and cardiff university of wales given - new versus new-given ? an analysis of reading times for spatial descriptions k . c . coventry & m . prat - sala , university of plymouth the interplay between geometry and function in the comprehension of spatial propositions j . gurney & e . kipple , army research laboratory , adelphi , md composing conceptual structure for spoken natural language in a virtual reality environment s . huang , national taiwan university spatial representation in a language without prepositions s . taub , gallaudet university iconic spatial language in asl : concrete and metaphorical applications c . vorwerg , university of bielefeld production and understanding of direction terms as a categorization process computation and spatial cognition m . eisenberg & a . eisenberg , university of colorado designing real-time software advisors for 3 - d spatial operations j . gasos & a . saffiotti , iridia , universite libre de brruxelles fuzzy sets for the representation of uncertain spatial knowledge in autonomous robots r . k . lindsay , university of michigan discovering diagrammatic demonstrations p . mckevitt , aalborg university and university of sheffield chameleon meets spatial cognition d . r . montello , m . f . goodchild , p . fohl & j . gottsegen , university of california , santa barbara implementing fuzzy spatial queries : problem statement and behavioral science methods s . o nuallain & j . kelleher , dublin city university spoken image meets vrml and java spatial reasoning and problem solving m . gattis , max planck institute for psychological research , munich mapping relational structure in visual reasoning j . n . mcgregor , t . c . ormerod & e . p . chronicle , university of victoria and lancaster university spatial and conceptual factors in human performance on the traveling salesperson problem p . d . pearson , r . h . logie & k . j . gilhooly , university of aberdeen verbal representations and spatial manipulation during mental synthesis l . rozenblit , m . spivey & j . wojslawowicz mechanical reasoning about gear-and - belt systems : do eye-movements predict performance ? c . sophian & m . crosby , university of hawaii at manoa ratios that even young children understand : the case of spatial proportions theoretical perspectives : r . h . logie , department of aberdeen constraints on visuo-spatial working memory n . h . narayanan , auburn university exploring virtual information landscapes : spatial cognition meets information visualization a . smith , national research council , canada spatial cognition without spatial concepts c . speed & d . g . tobin , university of plymouth space under stress : spatial understanding and new media technologies m . tiressa , a . caressa and g . geminiani , universita di torino & universita di padova a theoretical framework for the study of spatial cognition poster presentations m . betrancourt , a . pellegrin & l . tardif , research institut , inria rhone - alpes using a spatial display to represent the temporal structure of multimedia documents m . bollaert , limsi-cnrs , university de paris - sud a connectionist model of mental imagery k borner & c vorwerg , university of bielefeld applying vr technology to the study of spatial perception and cognition a . caressa , a . abrigliano & g . geminiani , universita de padova & universita di torino . describers and explorers : a method to investigate cognitive maps . e . p . chronicle , t . c . ormerod & j . mcgregor . lancaster university and university of victoria when insight just won't come : the failure of visual cues in the nine-dot problem . r . coates , c . j . hamilton & t . heffernan , university of teeside and university of northumbria at newcastle in search of the visual and spatial characteristics of visuo-spatial working memory g . fernandez , lmsi-cnrs individual differences in the processing of route directions r . hornig , b . claus & k . eyferth , technical university of berlin in search for an overall organizing principle in spatial mental models : a question of inference m - c . grobety , m . morand & f . schenk cognitive mapping across visually disconnected environments n . gotts , university of wales , aberystwyth describing the topology of spherical regions using the \\\" rcc \\\" formalism x . guilarova , moscow m . v . lomosonov state university polysemy of adjective \\\" round \\\" via lakoff 's radical category structuring j . s . longstaff , laban center , london cognitive structures of kinesthetic space : reevaluating rudolph labanus choreutics u . schmid , s . wiebrock & f . wysotzki , technical university of berlin modeling spatial inferences in text understanding programme committee : ruth byrne , trinity college dublin jerome feldman , university of california , berkeley mary hegarty , university of california , santa barbara ( program chair ) christopher habel , university of hamburg george lakoff , university of california , berkeley robert h . logie , university of aberdeen jack loomis , university of california , santa barbara paul mc kevitt , aalborg university and university of sheffield daniel r . montello , university of california , santa barbara n . hari naryanan , auburn university and georgia institute of technology patrick olivier , university of wales , aberystwyth sean o nuallain , dublin city university ( co - chair ) terry regier , university of chicago keith stenning , edinburgh university michael spivey , cornell university arnold smith , national research council , canada barbara tversky , stanford university\\n\"\n        ],\n        \"semantic_type\": \"\",\n        \"description\": \"\"\n      }\n    },\n    {\n      \"column\": \"Label\",\n      \"properties\": {\n        \"dtype\": \"number\",\n        \"std\": 0,\n        \"min\": 0,\n        \"max\": 1,\n        \"num_unique_values\": 2,\n        \"samples\": [\n          0,\n          1\n        ],\n        \"semantic_type\": \"\",\n        \"description\": \"\"\n      }\n    }\n  ]\n}"
            }
          },
          "metadata": {},
          "execution_count": 9
        }
      ],
      "source": [
        "df2.head()"
      ]
    },
    {
      "cell_type": "markdown",
      "metadata": {
        "id": "w9KF5v2HgxrQ"
      },
      "source": [
        "# **Data Cleaning and Preprocessing**"
      ]
    },
    {
      "cell_type": "code",
      "execution_count": null,
      "metadata": {
        "id": "eSowGDdIAz9t"
      },
      "outputs": [],
      "source": [
        "df = df.drop(columns = 'Unnamed: 0', axis='columns')\n",
        "df = df[df['Body']!= 'empty']\n",
        "df1 = df1.drop(columns = ['Unnamed: 0','Unnamed: 0.1']\t , axis='columns')\n",
        "df2 = df2.drop(columns = 'Unnamed: 0', axis='columns')"
      ]
    },
    {
      "cell_type": "code",
      "execution_count": null,
      "metadata": {
        "id": "TIHUoGAHP2ns"
      },
      "outputs": [],
      "source": [
        "#final_df = pd.concat([df, df1, df2], ignore_index=True)\n",
        "final_df =  df"
      ]
    },
    {
      "cell_type": "code",
      "execution_count": null,
      "metadata": {
        "colab": {
          "base_uri": "https://localhost:8080/"
        },
        "id": "1Bbjl9M6f5eV",
        "outputId": "4f628965-2a8b-4ab8-f6b1-661c98baaeb6"
      },
      "outputs": [
        {
          "output_type": "execute_result",
          "data": {
            "text/plain": [
              "221"
            ]
          },
          "metadata": {},
          "execution_count": 12
        }
      ],
      "source": [
        "final_df['Body'].duplicated().sum()"
      ]
    },
    {
      "cell_type": "code",
      "execution_count": null,
      "metadata": {
        "id": "nvUWOCy1f5l5"
      },
      "outputs": [],
      "source": [
        "final_df = final_df.drop_duplicates()"
      ]
    },
    {
      "cell_type": "code",
      "execution_count": null,
      "metadata": {
        "colab": {
          "base_uri": "https://localhost:8080/",
          "height": 206
        },
        "id": "VfbtML8UVyrK",
        "outputId": "8f80618c-6c03-49b6-b5cb-bddb80273c68"
      },
      "outputs": [
        {
          "output_type": "execute_result",
          "data": {
            "text/plain": [
              "                                                Body  Label\n",
              "0  \\nSave up to 70% on Life Insurance.\\nWhy Spend...      1\n",
              "1  1) Fight The Risk of Cancer!\\nhttp://www.adcli...      1\n",
              "2  1) Fight The Risk of Cancer!\\nhttp://www.adcli...      1\n",
              "3  ##############################################...      1\n",
              "4  I thought you might like these:\\n1) Slim Down ...      1"
            ],
            "text/html": [
              "\n",
              "  <div id=\"df-dbae8e25-02b2-426b-9942-759628e9298f\" class=\"colab-df-container\">\n",
              "    <div>\n",
              "<style scoped>\n",
              "    .dataframe tbody tr th:only-of-type {\n",
              "        vertical-align: middle;\n",
              "    }\n",
              "\n",
              "    .dataframe tbody tr th {\n",
              "        vertical-align: top;\n",
              "    }\n",
              "\n",
              "    .dataframe thead th {\n",
              "        text-align: right;\n",
              "    }\n",
              "</style>\n",
              "<table border=\"1\" class=\"dataframe\">\n",
              "  <thead>\n",
              "    <tr style=\"text-align: right;\">\n",
              "      <th></th>\n",
              "      <th>Body</th>\n",
              "      <th>Label</th>\n",
              "    </tr>\n",
              "  </thead>\n",
              "  <tbody>\n",
              "    <tr>\n",
              "      <th>0</th>\n",
              "      <td>\\nSave up to 70% on Life Insurance.\\nWhy Spend...</td>\n",
              "      <td>1</td>\n",
              "    </tr>\n",
              "    <tr>\n",
              "      <th>1</th>\n",
              "      <td>1) Fight The Risk of Cancer!\\nhttp://www.adcli...</td>\n",
              "      <td>1</td>\n",
              "    </tr>\n",
              "    <tr>\n",
              "      <th>2</th>\n",
              "      <td>1) Fight The Risk of Cancer!\\nhttp://www.adcli...</td>\n",
              "      <td>1</td>\n",
              "    </tr>\n",
              "    <tr>\n",
              "      <th>3</th>\n",
              "      <td>##############################################...</td>\n",
              "      <td>1</td>\n",
              "    </tr>\n",
              "    <tr>\n",
              "      <th>4</th>\n",
              "      <td>I thought you might like these:\\n1) Slim Down ...</td>\n",
              "      <td>1</td>\n",
              "    </tr>\n",
              "  </tbody>\n",
              "</table>\n",
              "</div>\n",
              "    <div class=\"colab-df-buttons\">\n",
              "\n",
              "  <div class=\"colab-df-container\">\n",
              "    <button class=\"colab-df-convert\" onclick=\"convertToInteractive('df-dbae8e25-02b2-426b-9942-759628e9298f')\"\n",
              "            title=\"Convert this dataframe to an interactive table.\"\n",
              "            style=\"display:none;\">\n",
              "\n",
              "  <svg xmlns=\"http://www.w3.org/2000/svg\" height=\"24px\" viewBox=\"0 -960 960 960\">\n",
              "    <path d=\"M120-120v-720h720v720H120Zm60-500h600v-160H180v160Zm220 220h160v-160H400v160Zm0 220h160v-160H400v160ZM180-400h160v-160H180v160Zm440 0h160v-160H620v160ZM180-180h160v-160H180v160Zm440 0h160v-160H620v160Z\"/>\n",
              "  </svg>\n",
              "    </button>\n",
              "\n",
              "  <style>\n",
              "    .colab-df-container {\n",
              "      display:flex;\n",
              "      gap: 12px;\n",
              "    }\n",
              "\n",
              "    .colab-df-convert {\n",
              "      background-color: #E8F0FE;\n",
              "      border: none;\n",
              "      border-radius: 50%;\n",
              "      cursor: pointer;\n",
              "      display: none;\n",
              "      fill: #1967D2;\n",
              "      height: 32px;\n",
              "      padding: 0 0 0 0;\n",
              "      width: 32px;\n",
              "    }\n",
              "\n",
              "    .colab-df-convert:hover {\n",
              "      background-color: #E2EBFA;\n",
              "      box-shadow: 0px 1px 2px rgba(60, 64, 67, 0.3), 0px 1px 3px 1px rgba(60, 64, 67, 0.15);\n",
              "      fill: #174EA6;\n",
              "    }\n",
              "\n",
              "    .colab-df-buttons div {\n",
              "      margin-bottom: 4px;\n",
              "    }\n",
              "\n",
              "    [theme=dark] .colab-df-convert {\n",
              "      background-color: #3B4455;\n",
              "      fill: #D2E3FC;\n",
              "    }\n",
              "\n",
              "    [theme=dark] .colab-df-convert:hover {\n",
              "      background-color: #434B5C;\n",
              "      box-shadow: 0px 1px 3px 1px rgba(0, 0, 0, 0.15);\n",
              "      filter: drop-shadow(0px 1px 2px rgba(0, 0, 0, 0.3));\n",
              "      fill: #FFFFFF;\n",
              "    }\n",
              "  </style>\n",
              "\n",
              "    <script>\n",
              "      const buttonEl =\n",
              "        document.querySelector('#df-dbae8e25-02b2-426b-9942-759628e9298f button.colab-df-convert');\n",
              "      buttonEl.style.display =\n",
              "        google.colab.kernel.accessAllowed ? 'block' : 'none';\n",
              "\n",
              "      async function convertToInteractive(key) {\n",
              "        const element = document.querySelector('#df-dbae8e25-02b2-426b-9942-759628e9298f');\n",
              "        const dataTable =\n",
              "          await google.colab.kernel.invokeFunction('convertToInteractive',\n",
              "                                                    [key], {});\n",
              "        if (!dataTable) return;\n",
              "\n",
              "        const docLinkHtml = 'Like what you see? Visit the ' +\n",
              "          '<a target=\"_blank\" href=https://colab.research.google.com/notebooks/data_table.ipynb>data table notebook</a>'\n",
              "          + ' to learn more about interactive tables.';\n",
              "        element.innerHTML = '';\n",
              "        dataTable['output_type'] = 'display_data';\n",
              "        await google.colab.output.renderOutput(dataTable, element);\n",
              "        const docLink = document.createElement('div');\n",
              "        docLink.innerHTML = docLinkHtml;\n",
              "        element.appendChild(docLink);\n",
              "      }\n",
              "    </script>\n",
              "  </div>\n",
              "\n",
              "\n",
              "<div id=\"df-d6e9eb08-7b4e-45f5-88fb-f33b755c44d2\">\n",
              "  <button class=\"colab-df-quickchart\" onclick=\"quickchart('df-d6e9eb08-7b4e-45f5-88fb-f33b755c44d2')\"\n",
              "            title=\"Suggest charts\"\n",
              "            style=\"display:none;\">\n",
              "\n",
              "<svg xmlns=\"http://www.w3.org/2000/svg\" height=\"24px\"viewBox=\"0 0 24 24\"\n",
              "     width=\"24px\">\n",
              "    <g>\n",
              "        <path d=\"M19 3H5c-1.1 0-2 .9-2 2v14c0 1.1.9 2 2 2h14c1.1 0 2-.9 2-2V5c0-1.1-.9-2-2-2zM9 17H7v-7h2v7zm4 0h-2V7h2v10zm4 0h-2v-4h2v4z\"/>\n",
              "    </g>\n",
              "</svg>\n",
              "  </button>\n",
              "\n",
              "<style>\n",
              "  .colab-df-quickchart {\n",
              "      --bg-color: #E8F0FE;\n",
              "      --fill-color: #1967D2;\n",
              "      --hover-bg-color: #E2EBFA;\n",
              "      --hover-fill-color: #174EA6;\n",
              "      --disabled-fill-color: #AAA;\n",
              "      --disabled-bg-color: #DDD;\n",
              "  }\n",
              "\n",
              "  [theme=dark] .colab-df-quickchart {\n",
              "      --bg-color: #3B4455;\n",
              "      --fill-color: #D2E3FC;\n",
              "      --hover-bg-color: #434B5C;\n",
              "      --hover-fill-color: #FFFFFF;\n",
              "      --disabled-bg-color: #3B4455;\n",
              "      --disabled-fill-color: #666;\n",
              "  }\n",
              "\n",
              "  .colab-df-quickchart {\n",
              "    background-color: var(--bg-color);\n",
              "    border: none;\n",
              "    border-radius: 50%;\n",
              "    cursor: pointer;\n",
              "    display: none;\n",
              "    fill: var(--fill-color);\n",
              "    height: 32px;\n",
              "    padding: 0;\n",
              "    width: 32px;\n",
              "  }\n",
              "\n",
              "  .colab-df-quickchart:hover {\n",
              "    background-color: var(--hover-bg-color);\n",
              "    box-shadow: 0 1px 2px rgba(60, 64, 67, 0.3), 0 1px 3px 1px rgba(60, 64, 67, 0.15);\n",
              "    fill: var(--button-hover-fill-color);\n",
              "  }\n",
              "\n",
              "  .colab-df-quickchart-complete:disabled,\n",
              "  .colab-df-quickchart-complete:disabled:hover {\n",
              "    background-color: var(--disabled-bg-color);\n",
              "    fill: var(--disabled-fill-color);\n",
              "    box-shadow: none;\n",
              "  }\n",
              "\n",
              "  .colab-df-spinner {\n",
              "    border: 2px solid var(--fill-color);\n",
              "    border-color: transparent;\n",
              "    border-bottom-color: var(--fill-color);\n",
              "    animation:\n",
              "      spin 1s steps(1) infinite;\n",
              "  }\n",
              "\n",
              "  @keyframes spin {\n",
              "    0% {\n",
              "      border-color: transparent;\n",
              "      border-bottom-color: var(--fill-color);\n",
              "      border-left-color: var(--fill-color);\n",
              "    }\n",
              "    20% {\n",
              "      border-color: transparent;\n",
              "      border-left-color: var(--fill-color);\n",
              "      border-top-color: var(--fill-color);\n",
              "    }\n",
              "    30% {\n",
              "      border-color: transparent;\n",
              "      border-left-color: var(--fill-color);\n",
              "      border-top-color: var(--fill-color);\n",
              "      border-right-color: var(--fill-color);\n",
              "    }\n",
              "    40% {\n",
              "      border-color: transparent;\n",
              "      border-right-color: var(--fill-color);\n",
              "      border-top-color: var(--fill-color);\n",
              "    }\n",
              "    60% {\n",
              "      border-color: transparent;\n",
              "      border-right-color: var(--fill-color);\n",
              "    }\n",
              "    80% {\n",
              "      border-color: transparent;\n",
              "      border-right-color: var(--fill-color);\n",
              "      border-bottom-color: var(--fill-color);\n",
              "    }\n",
              "    90% {\n",
              "      border-color: transparent;\n",
              "      border-bottom-color: var(--fill-color);\n",
              "    }\n",
              "  }\n",
              "</style>\n",
              "\n",
              "  <script>\n",
              "    async function quickchart(key) {\n",
              "      const quickchartButtonEl =\n",
              "        document.querySelector('#' + key + ' button');\n",
              "      quickchartButtonEl.disabled = true;  // To prevent multiple clicks.\n",
              "      quickchartButtonEl.classList.add('colab-df-spinner');\n",
              "      try {\n",
              "        const charts = await google.colab.kernel.invokeFunction(\n",
              "            'suggestCharts', [key], {});\n",
              "      } catch (error) {\n",
              "        console.error('Error during call to suggestCharts:', error);\n",
              "      }\n",
              "      quickchartButtonEl.classList.remove('colab-df-spinner');\n",
              "      quickchartButtonEl.classList.add('colab-df-quickchart-complete');\n",
              "    }\n",
              "    (() => {\n",
              "      let quickchartButtonEl =\n",
              "        document.querySelector('#df-d6e9eb08-7b4e-45f5-88fb-f33b755c44d2 button');\n",
              "      quickchartButtonEl.style.display =\n",
              "        google.colab.kernel.accessAllowed ? 'block' : 'none';\n",
              "    })();\n",
              "  </script>\n",
              "</div>\n",
              "    </div>\n",
              "  </div>\n"
            ],
            "application/vnd.google.colaboratory.intrinsic+json": {
              "type": "dataframe",
              "variable_name": "final_df",
              "summary": "{\n  \"name\": \"final_df\",\n  \"rows\": 5292,\n  \"fields\": [\n    {\n      \"column\": \"Body\",\n      \"properties\": {\n        \"dtype\": \"string\",\n        \"num_unique_values\": 5291,\n        \"samples\": [\n          \"\\nDear Friend:Find solutions to all your daily problems and life's challenges at the click of a mouse button?We have the answers you're looking for on The Word Bible CD-ROM it is one of the most powerful, life-changing tools available today and it's easy to use.On one CD, (Windows or Macintosh versions) you have a complete library of Bibles, well known reference books and study tools. You can view several Bible versions simultaneously, make personal notes, print scriptures and search by word, phrase or topic.The Word Bible CD offers are simply amazing.The wide range of resources on the CD are valued at over $1,500 if purchased separately.** 14 English Bible Versions\\n** 32 Foreign Language Versions\\n** 9 Original Language Versions\\n** Homeschool Resource Index\\n** 17 Notes & Commentaries\\n** Colorful Maps, Illustrations, & Graphs\\n** Step-by-Step Tutorial\\n** Fast & Powerful Word/Phrase Search\\n** More than 660,000 cross references\\n** Complete Manual With IndexAlso:** Build a strong foundation for dynamic Bible Study,\\n** Make personal notes directly into your computer,\\n** Create links to favorite scriptures and books.Try it. No Risk. 30-day money-back guarantee\\n[excluding shipping & handling]If you are interested in complete information on The Word CD, please visit our\\nWeb site: http://bible.8mail.net/\\n \\nUS and International orders accepted. Credit cards and personal checks accepted.If your browser won't load the Web site please click the link below to send us an e-mail and we will provide you more information.mailto:cd-bible@minister.com?subject=Please-email-Bible-info    Your relationship with God is the foundation of your life -- on earth and for eternity. It's the most important relationship you'll ever enjoy. Build your relationship with God so you can reap the life-changing benefits only He can provide: unconditional love; eternal life; financial and emotional strength; health; and solutions to every problem or challenge you'll ever face.May God Bless You,\\nGGII Ministries, 160 White Pines Dr., Alpharetta Ga, 30004\\nE-mail address:CD-bible@minister.com  \\nPhone:  770-343-9724  Fax 770-772-9925******************************************We apologize if you are not interested in being on our Bible News e-mail list. The Internet is the fastest method of distributing this type of timely information. If you wish to have your e-mail address deleted from our Bible News e-mail database, DO NOT USE THE REPLY BUTTON. THE FROM ADDRESS DOES NOT GO TO OUR REMOVE DATABASE. Simply click here to send an e-mail that will remove your address from the database: mailto:rm8952@post.com?subject=offlist     \",\n          \"\\nEdrugsource.com\\nWe offer the Absolute Lowest prices on Viagra and other \\nFDA-approved medications.\\nMedication prescribed by licensed U.S. Physicians and \\nshipped via overnight delivery. \\nFree Medical Consultation Available 24 hours... 7 Days a \\nweek! \\nNo Physical Exam Necessary. \\nFeatured Products Available for immediate delivery at \\nEdrugsource.com\\u00c2\\u00a0include:Viagra \\nPhentermine \\nCelebrex \\nXenical \\nPlus Much More! \\nWeight Loss - Sexual \\nHealth - Skin Care - Pain Relief- Stop Smoking Visit  Edrugsource.com for a discrete, safe and secure \\nexperience.\\nCLICK HERE \\nto see what we have!!!To be excluded from our mailing \\nlist, \\nCLICK HERE  .  You will then be automatically deleted from future mailings.============================================================================= \\n--DeathToSpamDeathToSpamDeathToSpam--\\n-------------------------------------------------------\\nThis sf.net email is sponsored by: Jabber - The world's fastest growing \\nreal-time communications platform! Don't just IM. Build it in! \\nhttp://www.jabber.com/osdn/xim\\n_______________________________________________\\nSpamassassin-Sightings mailing list\\nSpamassassin-Sightings@lists.sourceforge.net\\nhttps://lists.sourceforge.net/lists/listinfo/spamassassin-sightings\\n\",\n          \"_/ _/ _/ _/ _/ _/ _/ _/ _/ _/ _/ _/ _/ _/ _/ _/ _/ _/ _/ _/ S   P   E   C   I   A   L         R   E   P   O   R   T  How To Reliably Generate Hundreds Of Leads And Prospects\\nEvery Week!\\n               \\n_/ _/ _/ _/ _/ _/ _/ _/ _/ _/ _/ _/ _/ _/ _/ _/ _/ _/ _/ _/\\n       \\nOur research has found that many online entrepreneurs have\\ntried one or more of the following...    Free Classifieds? (Don't work anymore)\\n    Web Site? (Takes thousands of surfers)\\n    Banners? (Expensive and losing their punch)\\n    E-Zine? (Hope they have a -huge- subscriber list)\\n    Search Engines? (Forget it, unless you're in the top 10)\\n   \\n         S O   W H A T   D O E S   W O R K ?Although often misunderstood, there is one method that has\\nproven to succeed time-after-time.\\n         E - M A I L   M A R K E T I N G ! !\\nDoes the thought of $50,000 to $151,200.00 per year make you\\ntingle with excitement?  Many of our customers make that and \\nmore... Click here to find out how:\\nhttp://32.97.166.75/usinet.zvlavii \\nHERE'S WHAT THE EXPERTS HAVE TO SAY ABOUT E-MAIL MARKETING:\\n\\\"A gold mine for those who can take advantage of\\nbulk e-mail programs\\\" - The New York Times\\\"E-mail is an incredible lead generation tool\\\"\\n- Crains MagazineClick here to find out how YOU can do it:\\nhttp://32.97.166.75/usinet.zvlavii ==========================================================\\n-=-=-=-=-=-=-=-=-=-=-Remove Instructions=-=-=-=-=-=-=-=-=-**********************************************************\\nDo not reply to this message - To be removed from future\\nmailings, Click Here:\\nmailto:tiana37@flashmail.com?Subject=Remove Please do not include correspondence with your remove \\nrequest  - all requests processed automatically.\\n********************************************************** [&*TG0]\\n\"\n        ],\n        \"semantic_type\": \"\",\n        \"description\": \"\"\n      }\n    },\n    {\n      \"column\": \"Label\",\n      \"properties\": {\n        \"dtype\": \"number\",\n        \"std\": 0,\n        \"min\": 0,\n        \"max\": 1,\n        \"num_unique_values\": 2,\n        \"samples\": [\n          0,\n          1\n        ],\n        \"semantic_type\": \"\",\n        \"description\": \"\"\n      }\n    }\n  ]\n}"
            }
          },
          "metadata": {},
          "execution_count": 14
        }
      ],
      "source": [
        "final_df.head()"
      ]
    },
    {
      "cell_type": "code",
      "execution_count": null,
      "metadata": {
        "id": "oHoAdk0VVzfR"
      },
      "outputs": [],
      "source": [
        "data = final_df.where((pd.notnull(final_df)), '')"
      ]
    },
    {
      "cell_type": "code",
      "execution_count": null,
      "metadata": {
        "colab": {
          "base_uri": "https://localhost:8080/"
        },
        "id": "Oj1d90US6htS",
        "outputId": "a8b3be1e-e1d5-4d38-9ff6-953a1fcb11fd"
      },
      "outputs": [
        {
          "output_type": "execute_result",
          "data": {
            "text/plain": [
              "0"
            ]
          },
          "metadata": {},
          "execution_count": 16
        }
      ],
      "source": [
        "data.isna().sum().sum()"
      ]
    },
    {
      "cell_type": "code",
      "execution_count": null,
      "metadata": {
        "colab": {
          "base_uri": "https://localhost:8080/"
        },
        "id": "5l-yH5NG6ipt",
        "outputId": "bbcc413f-2342-4c29-bcb9-436b92acff20"
      },
      "outputs": [
        {
          "output_type": "stream",
          "name": "stdout",
          "text": [
            "<class 'pandas.core.frame.DataFrame'>\n",
            "Index: 5292 entries, 0 to 6043\n",
            "Data columns (total 2 columns):\n",
            " #   Column  Non-Null Count  Dtype \n",
            "---  ------  --------------  ----- \n",
            " 0   Body    5292 non-null   object\n",
            " 1   Label   5292 non-null   int64 \n",
            "dtypes: int64(1), object(1)\n",
            "memory usage: 124.0+ KB\n"
          ]
        }
      ],
      "source": [
        "data.info()"
      ]
    },
    {
      "cell_type": "code",
      "execution_count": null,
      "metadata": {
        "colab": {
          "base_uri": "https://localhost:8080/"
        },
        "id": "UbbTB4wo61pP",
        "outputId": "ac5758f7-81c9-47df-8504-f3bb4f7a6dab"
      },
      "outputs": [
        {
          "output_type": "execute_result",
          "data": {
            "text/plain": [
              "(5292, 2)"
            ]
          },
          "metadata": {},
          "execution_count": 18
        }
      ],
      "source": [
        "data.shape"
      ]
    },
    {
      "cell_type": "code",
      "execution_count": null,
      "metadata": {
        "id": "tBId68NnHQ-k"
      },
      "outputs": [],
      "source": [
        "data.reset_index(drop=True, inplace=True)"
      ]
    },
    {
      "cell_type": "markdown",
      "metadata": {
        "id": "UcOI3Ts4bSjP"
      },
      "source": [
        "# **Text Vecorization**"
      ]
    },
    {
      "cell_type": "code",
      "execution_count": null,
      "metadata": {
        "id": "YXJN8zE5m8Fm"
      },
      "outputs": [],
      "source": [
        "ps = PorterStemmer()\n",
        "corpus = []\n",
        "for index, row in data.iterrows():\n",
        "  review = re.sub('[^a-zA-Z]', ' ', row['Body'])\n",
        "  review = review.lower()\n",
        "  review = review.split()\n",
        "  review = [ps.stem(word) for word in review if not word in stopwords.words('english')]\n",
        "  review = ' '.join(review)\n",
        "  corpus.append(review)"
      ]
    },
    {
      "cell_type": "code",
      "execution_count": null,
      "metadata": {
        "id": "MLOD8DZom8Ih"
      },
      "outputs": [],
      "source": [
        "cv = CountVectorizer(max_features = 6000)\n",
        "X = cv.fit_transform(corpus).toarray()\n",
        "y = data ['Label']"
      ]
    },
    {
      "cell_type": "code",
      "execution_count": null,
      "metadata": {
        "id": "8U2I-LJOnC9R"
      },
      "outputs": [],
      "source": [
        "tfidf = TfidfVectorizer(max_features=6000)\n",
        "X1 = tfidf.fit_transform(corpus).toarray()\n",
        "y1 = data['Label']"
      ]
    },
    {
      "cell_type": "code",
      "source": [
        "tokenized_corpus = [sentence.split() for sentence in corpus]\n",
        "\n",
        "# Train a Word2Vec model\n",
        "word2vec_model = Word2Vec(sentences=tokenized_corpus, vector_size=500, window=5, min_count=1, workers=4)\n",
        "\n",
        "# Function to convert sentence to vector\n",
        "def sentence_vector(sentence, model, vector_size=500):\n",
        "    words = sentence.split()\n",
        "    word_vectors = [model.wv[word] for word in words if word in model.wv]\n",
        "    if len(word_vectors) == 0:\n",
        "        return np.zeros(vector_size)\n",
        "    return np.mean(word_vectors, axis=0)\n",
        "\n",
        "# Transform the corpus into vectors\n",
        "X2 = np.array([sentence_vector(sentence, word2vec_model) for sentence in corpus])\n",
        "\n",
        "y2 = data['Label']"
      ],
      "metadata": {
        "id": "ckVAmsuLQcV_"
      },
      "execution_count": null,
      "outputs": []
    },
    {
      "cell_type": "code",
      "execution_count": null,
      "metadata": {
        "colab": {
          "base_uri": "https://localhost:8080/"
        },
        "id": "PCg9SmYnFxPm",
        "outputId": "8961c735-4657-45d9-da2e-ff88a1e884cd"
      },
      "outputs": [
        {
          "output_type": "execute_result",
          "data": {
            "text/plain": [
              "(5292, 5292)"
            ]
          },
          "metadata": {},
          "execution_count": 24
        }
      ],
      "source": [
        "len(X), len(y)"
      ]
    },
    {
      "cell_type": "markdown",
      "metadata": {
        "id": "4LpIr1OvbfEo"
      },
      "source": [
        "# **Train Test Split**"
      ]
    },
    {
      "cell_type": "code",
      "execution_count": null,
      "metadata": {
        "id": "ZBbEqMHsm8OQ"
      },
      "outputs": [],
      "source": [
        "X_train, X_test, y_train, y_test = train_test_split(X,y,test_size=0.2, random_state= 3)\n",
        "X_train_1, X_test_1, y_train_1, y_test_1 = train_test_split(X1,y1,test_size=0.2, random_state= 3)\n",
        "X_train_2, X_test_2, y_train_2, y_test_2 = train_test_split(X2,y2,test_size=0.2, random_state= 3)\n"
      ]
    },
    {
      "cell_type": "markdown",
      "metadata": {
        "id": "EHP_pTLJbkVl"
      },
      "source": [
        "# **Oversampling**"
      ]
    },
    {
      "cell_type": "code",
      "execution_count": null,
      "metadata": {
        "id": "O5q10oTUk6g2"
      },
      "outputs": [],
      "source": [
        "smote = SMOTE(sampling_strategy='minority', random_state=42)\n",
        "X_train_res, y_train_res = smote.fit_resample(X_train, y_train)\n",
        "X_train_res_1, y_train_res_1 = smote.fit_resample(X_train_1, y_train_1)\n",
        "X_train_res_2, y_train_res_2 = smote.fit_resample(X_train_2, y_train_2)"
      ]
    },
    {
      "cell_type": "markdown",
      "metadata": {
        "id": "koueuzuJbwPM"
      },
      "source": [
        "# **Model Training and Performance Metrics**"
      ]
    },
    {
      "cell_type": "code",
      "execution_count": null,
      "metadata": {
        "id": "EDtr7RyM6rb2"
      },
      "outputs": [],
      "source": [
        "classifiers = {\n",
        "    \"Multinomial Naive Bayes\": (MultinomialNB(), {'alpha': [0.5, 1.0, 1.5]}),\n",
        "    \"Logistic Regression\": (LogisticRegression(max_iter=1000), {'C': [0.1, 1, 10]}),\n",
        "    \"K-Nearest Neighbors\": (KNeighborsClassifier(), {'n_neighbors': [3, 5, 7]}),\n",
        "    \"Decision Tree\": (DecisionTreeClassifier(), {'max_depth': [None, 10, 20, 30]}),\n",
        "    \"Random Forest\": (RandomForestClassifier(), {'n_estimators': [50, 100, 200], 'max_depth': [None, 10, 20, 30]})\n",
        "}"
      ]
    },
    {
      "cell_type": "code",
      "source": [
        "classifiers1 = {\n",
        "    \"Logistic Regression\": (LogisticRegression(max_iter=1000), {'C': [0.1, 1, 10]}),\n",
        "    \"K-Nearest Neighbors\": (KNeighborsClassifier(), {'n_neighbors': [3, 5, 7]}),\n",
        "    \"Decision Tree\": (DecisionTreeClassifier(), {'max_depth': [None, 10, 20, 30]}),\n",
        "    \"Random Forest\": (RandomForestClassifier(), {'n_estimators': [50, 100, 200], 'max_depth': [None, 10, 20, 30]})\n",
        "}"
      ],
      "metadata": {
        "id": "bRZvhV_sVcU5"
      },
      "execution_count": null,
      "outputs": []
    },
    {
      "cell_type": "code",
      "execution_count": null,
      "metadata": {
        "id": "SMbsomk_6rmk"
      },
      "outputs": [],
      "source": [
        "best_estimators = {}\n",
        "performance_metrics = {\n",
        "    'Accuracy': [],\n",
        "    'Precision': [],\n",
        "    'Recall': [],\n",
        "    'F1 Score': [],\n",
        "}"
      ]
    },
    {
      "cell_type": "markdown",
      "source": [
        "## Model Training and Perfomance (Count Vectorizer - Bag of Words)\n",
        "\n"
      ],
      "metadata": {
        "id": "P8dXtVATnLp3"
      }
    },
    {
      "cell_type": "code",
      "execution_count": null,
      "metadata": {
        "colab": {
          "base_uri": "https://localhost:8080/",
          "height": 191
        },
        "id": "dMM5QN7-sMUw",
        "outputId": "d4972787-c40f-4361-d48e-79e1525031c5"
      },
      "outputs": [
        {
          "output_type": "execute_result",
          "data": {
            "text/plain": [
              "'\\nfor name, (clf, param_grid) in classifiers.items():\\n    # Hyperparameter tuning using GridSearchCV\\n    grid_search = GridSearchCV(clf, param_grid, cv=5, scoring=\\'accuracy\\')\\n    grid_search.fit(X_train_res, y_train_res)\\n    best_clf = grid_search.best_estimator_\\n    best_estimators[name] = best_clf\\n    # Make predictions\\n    y_pred = best_clf.predict(X_test)\\n    y_prob = best_clf.predict_proba(X_test)[:, 1] if hasattr(best_clf, \\'predict_proba\\') else None\\n    # Compute confusion matrix\\n    confusion = confusion_matrix(y_test, y_pred)\\n    # Compute performance metrics\\n    accuracy = accuracy_score(y_test, y_pred)\\n    precision = precision_score(y_test, y_pred, average=\\'weighted\\')\\n    recall = recall_score(y_test, y_pred, average=\\'weighted\\')\\n    f1 = f1_score(y_test, y_pred, average=\\'weighted\\')\\n\\n    performance_metrics[\\'Accuracy\\'].append(accuracy)\\n    performance_metrics[\\'Precision\\'].append(precision)\\n    performance_metrics[\\'Recall\\'].append(recall)\\n    performance_metrics[\\'F1 Score\\'].append(f1)\\n\\n    # Print best parameters and performance metrics\\n    print(f\"Best Parameters for {name}:\\n\", grid_search.best_params_)\\n    print(f\"Confusion Matrix for {name}:\\n\", confusion)\\n    print(f\"Accuracy Score for {name}: {accuracy:.2f}\")\\n    print(f\"Precision for {name}: {precision:.2f}\")\\n    print(f\"Recall for {name}: {recall:.2f}\")\\n    print(f\"F1 Score for {name}: {f1:.2f}\")\\n\\n    # Plot the confusion matrix\\n    plt.figure(figsize=(8,6))\\n    sns.heatmap(confusion, annot=True, fmt=\\'d\\', cmap=\\'Blues\\')\\n    plt.title(f\\'Confusion Matrix for {name}\\')\\n    plt.xlabel(\\'Predicted\\')\\n    plt.ylabel(\\'Actual\\')\\n    plt.show()\\n  '"
            ],
            "application/vnd.google.colaboratory.intrinsic+json": {
              "type": "string"
            }
          },
          "metadata": {},
          "execution_count": 30
        }
      ],
      "source": [
        "\"\"\"\n",
        "for name, (clf, param_grid) in classifiers.items():\n",
        "    # Hyperparameter tuning using GridSearchCV\n",
        "    grid_search = GridSearchCV(clf, param_grid, cv=5, scoring='accuracy')\n",
        "    grid_search.fit(X_train_res, y_train_res)\n",
        "    best_clf = grid_search.best_estimator_\n",
        "    best_estimators[name] = best_clf\n",
        "    # Make predictions\n",
        "    y_pred = best_clf.predict(X_test)\n",
        "    y_prob = best_clf.predict_proba(X_test)[:, 1] if hasattr(best_clf, 'predict_proba') else None\n",
        "    # Compute confusion matrix\n",
        "    confusion = confusion_matrix(y_test, y_pred)\n",
        "    # Compute performance metrics\n",
        "    accuracy = accuracy_score(y_test, y_pred)\n",
        "    precision = precision_score(y_test, y_pred, average='weighted')\n",
        "    recall = recall_score(y_test, y_pred, average='weighted')\n",
        "    f1 = f1_score(y_test, y_pred, average='weighted')\n",
        "\n",
        "    performance_metrics['Accuracy'].append(accuracy)\n",
        "    performance_metrics['Precision'].append(precision)\n",
        "    performance_metrics['Recall'].append(recall)\n",
        "    performance_metrics['F1 Score'].append(f1)\n",
        "\n",
        "    # Print best parameters and performance metrics\n",
        "    print(f\"Best Parameters for {name}:\\n\", grid_search.best_params_)\n",
        "    print(f\"Confusion Matrix for {name}:\\n\", confusion)\n",
        "    print(f\"Accuracy Score for {name}: {accuracy:.2f}\")\n",
        "    print(f\"Precision for {name}: {precision:.2f}\")\n",
        "    print(f\"Recall for {name}: {recall:.2f}\")\n",
        "    print(f\"F1 Score for {name}: {f1:.2f}\")\n",
        "\n",
        "    # Plot the confusion matrix\n",
        "    plt.figure(figsize=(8,6))\n",
        "    sns.heatmap(confusion, annot=True, fmt='d', cmap='Blues')\n",
        "    plt.title(f'Confusion Matrix for {name}')\n",
        "    plt.xlabel('Predicted')\n",
        "    plt.ylabel('Actual')\n",
        "    plt.show()\n",
        "  \"\"\""
      ]
    },
    {
      "cell_type": "markdown",
      "source": [
        "##Model Training and Performace (Tfidf Vectorization)"
      ],
      "metadata": {
        "id": "dw6WDc_Wm93I"
      }
    },
    {
      "cell_type": "code",
      "execution_count": null,
      "metadata": {
        "colab": {
          "base_uri": "https://localhost:8080/",
          "height": 191
        },
        "id": "szNia7S0reAb",
        "outputId": "9a5305a7-699e-4854-8c2b-0d43d8af28a8"
      },
      "outputs": [
        {
          "output_type": "execute_result",
          "data": {
            "text/plain": [
              "'\\nfor name, (clf, param_grid) in classifiers.items():\\n    # Hyperparameter tuning using GridSearchCV\\n    grid_search = GridSearchCV(clf, param_grid, cv=5, scoring=\\'accuracy\\')\\n    grid_search.fit(X_train_res_1, y_train_res_1)\\n    best_clf = grid_search.best_estimator_\\n    best_estimators[name] = best_clf\\n    # Make predictions\\n    y_pred = best_clf.predict(X_test_1)\\n    y_prob = best_clf.predict_proba(X_test_1)[:, 1] if hasattr(best_clf, \\'predict_proba\\') else None\\n    # Compute confusion matrix\\n    confusion = confusion_matrix(y_test_1, y_pred)\\n    # Compute performance metrics\\n    accuracy = accuracy_score(y_test_1, y_pred)\\n    precision = precision_score(y_test_1, y_pred, average=\\'weighted\\')\\n    recall = recall_score(y_test_1, y_pred, average=\\'weighted\\')\\n    f1 = f1_score(y_test_1, y_pred, average=\\'weighted\\')\\n\\n    performance_metrics[\\'Accuracy\\'].append(accuracy)\\n    performance_metrics[\\'Precision\\'].append(precision)\\n    performance_metrics[\\'Recall\\'].append(recall)\\n    performance_metrics[\\'F1 Score\\'].append(f1)\\n\\n    # Print best parameters and performance metrics\\n    print(f\"Best Parameters for {name}:\\n\", grid_search.best_params_)\\n    print(f\"Confusion Matrix for {name}:\\n\", confusion)\\n    print(f\"Accuracy Score for {name}: {accuracy:.2f}\")\\n    print(f\"Precision for {name}: {precision:.2f}\")\\n    print(f\"Recall for {name}: {recall:.2f}\")\\n    print(f\"F1 Score for {name}: {f1:.2f}\")\\n\\n    # Plot the confusion matrix\\n    plt.figure(figsize=(8,6))\\n    sns.heatmap(confusion, annot=True, fmt=\\'d\\', cmap=\\'Blues\\')\\n    plt.title(f\\'Confusion Matrix for {name}\\')\\n    plt.xlabel(\\'Predicted\\')\\n    plt.ylabel(\\'Actual\\')\\n    plt.show()\\n  '"
            ],
            "application/vnd.google.colaboratory.intrinsic+json": {
              "type": "string"
            }
          },
          "metadata": {},
          "execution_count": 31
        }
      ],
      "source": [
        "\"\"\"\n",
        "for name, (clf, param_grid) in classifiers.items():\n",
        "    # Hyperparameter tuning using GridSearchCV\n",
        "    grid_search = GridSearchCV(clf, param_grid, cv=5, scoring='accuracy')\n",
        "    grid_search.fit(X_train_res_1, y_train_res_1)\n",
        "    best_clf = grid_search.best_estimator_\n",
        "    best_estimators[name] = best_clf\n",
        "    # Make predictions\n",
        "    y_pred = best_clf.predict(X_test_1)\n",
        "    y_prob = best_clf.predict_proba(X_test_1)[:, 1] if hasattr(best_clf, 'predict_proba') else None\n",
        "    # Compute confusion matrix\n",
        "    confusion = confusion_matrix(y_test_1, y_pred)\n",
        "    # Compute performance metrics\n",
        "    accuracy = accuracy_score(y_test_1, y_pred)\n",
        "    precision = precision_score(y_test_1, y_pred, average='weighted')\n",
        "    recall = recall_score(y_test_1, y_pred, average='weighted')\n",
        "    f1 = f1_score(y_test_1, y_pred, average='weighted')\n",
        "\n",
        "    performance_metrics['Accuracy'].append(accuracy)\n",
        "    performance_metrics['Precision'].append(precision)\n",
        "    performance_metrics['Recall'].append(recall)\n",
        "    performance_metrics['F1 Score'].append(f1)\n",
        "\n",
        "    # Print best parameters and performance metrics\n",
        "    print(f\"Best Parameters for {name}:\\n\", grid_search.best_params_)\n",
        "    print(f\"Confusion Matrix for {name}:\\n\", confusion)\n",
        "    print(f\"Accuracy Score for {name}: {accuracy:.2f}\")\n",
        "    print(f\"Precision for {name}: {precision:.2f}\")\n",
        "    print(f\"Recall for {name}: {recall:.2f}\")\n",
        "    print(f\"F1 Score for {name}: {f1:.2f}\")\n",
        "\n",
        "    # Plot the confusion matrix\n",
        "    plt.figure(figsize=(8,6))\n",
        "    sns.heatmap(confusion, annot=True, fmt='d', cmap='Blues')\n",
        "    plt.title(f'Confusion Matrix for {name}')\n",
        "    plt.xlabel('Predicted')\n",
        "    plt.ylabel('Actual')\n",
        "    plt.show()\n",
        "  \"\"\""
      ]
    },
    {
      "cell_type": "code",
      "execution_count": null,
      "metadata": {
        "id": "FgQl-DSKreTM",
        "colab": {
          "base_uri": "https://localhost:8080/",
          "height": 1000
        },
        "outputId": "c1108e89-0e59-4811-d8b0-d4323864c5f0"
      },
      "outputs": [
        {
          "output_type": "stream",
          "name": "stdout",
          "text": [
            "Best Parameters for Logistic Regression:\n",
            " {'C': 10}\n",
            "Confusion Matrix for Logistic Regression:\n",
            " [[726  42]\n",
            " [ 17 274]]\n",
            "Accuracy Score for Logistic Regression: 0.94\n",
            "Precision for Logistic Regression: 0.95\n",
            "Recall for Logistic Regression: 0.94\n",
            "F1 Score for Logistic Regression: 0.94\n"
          ]
        },
        {
          "output_type": "display_data",
          "data": {
            "text/plain": [
              "<Figure size 800x600 with 2 Axes>"
            ],
            "image/png": "[encoded data removed]"
          },
          "metadata": {}
        },
        {
          "output_type": "stream",
          "name": "stdout",
          "text": [
            "Best Parameters for K-Nearest Neighbors:\n",
            " {'n_neighbors': 3}\n",
            "Confusion Matrix for K-Nearest Neighbors:\n",
            " [[725  43]\n",
            " [ 15 276]]\n",
            "Accuracy Score for K-Nearest Neighbors: 0.95\n",
            "Precision for K-Nearest Neighbors: 0.95\n",
            "Recall for K-Nearest Neighbors: 0.95\n",
            "F1 Score for K-Nearest Neighbors: 0.95\n"
          ]
        },
        {
          "output_type": "display_data",
          "data": {
            "text/plain": [
              "<Figure size 800x600 with 2 Axes>"
            ],
            "image/png": "[encoded data removed]"
          },
          "metadata": {}
        },
        {
          "output_type": "stream",
          "name": "stdout",
          "text": [
            "Best Parameters for Decision Tree:\n",
            " {'max_depth': 10}\n",
            "Confusion Matrix for Decision Tree:\n",
            " [[720  48]\n",
            " [ 43 248]]\n",
            "Accuracy Score for Decision Tree: 0.91\n",
            "Precision for Decision Tree: 0.91\n",
            "Recall for Decision Tree: 0.91\n",
            "F1 Score for Decision Tree: 0.91\n"
          ]
        },
        {
          "output_type": "display_data",
          "data": {
            "text/plain": [
              "<Figure size 800x600 with 2 Axes>"
            ],
            "image/png": "[encoded data removed]"
          },
          "metadata": {}
        },
        {
          "output_type": "stream",
          "name": "stdout",
          "text": [
            "Best Parameters for Random Forest:\n",
            " {'max_depth': None, 'n_estimators': 200}\n",
            "Confusion Matrix for Random Forest:\n",
            " [[745  23]\n",
            " [ 23 268]]\n",
            "Accuracy Score for Random Forest: 0.96\n",
            "Precision for Random Forest: 0.96\n",
            "Recall for Random Forest: 0.96\n",
            "F1 Score for Random Forest: 0.96\n"
          ]
        },
        {
          "output_type": "display_data",
          "data": {
            "text/plain": [
              "<Figure size 800x600 with 2 Axes>"
            ],
            "image/png": "[encoded data removed]"
          },
          "metadata": {}
        }
      ],
      "source": [
        "for name, (clf, param_grid) in classifiers1.items():\n",
        "    # Hyperparameter tuning using GridSearchCV\n",
        "    grid_search = GridSearchCV(clf, param_grid, cv=5, scoring='accuracy')\n",
        "    grid_search.fit(X_train_res_2, y_train_res_2)\n",
        "    best_clf = grid_search.best_estimator_\n",
        "    best_estimators[name] = best_clf\n",
        "    # Make predictions\n",
        "    y_pred = best_clf.predict(X_test_2)\n",
        "    y_prob = best_clf.predict_proba(X_test_2)[:, 1] if hasattr(best_clf, 'predict_proba') else None\n",
        "    # Compute confusion matrix\n",
        "    confusion = confusion_matrix(y_test_2, y_pred)\n",
        "    # Compute performance metrics\n",
        "    accuracy = accuracy_score(y_test_2, y_pred)\n",
        "    precision = precision_score(y_test_2, y_pred, average='weighted')\n",
        "    recall = recall_score(y_test_2, y_pred, average='weighted')\n",
        "    f1 = f1_score(y_test_2, y_pred, average='weighted')\n",
        "\n",
        "    performance_metrics['Accuracy'].append(accuracy)\n",
        "    performance_metrics['Precision'].append(precision)\n",
        "    performance_metrics['Recall'].append(recall)\n",
        "    performance_metrics['F1 Score'].append(f1)\n",
        "\n",
        "    # Print best parameters and performance metrics\n",
        "    print(f\"Best Parameters for {name}:\\n\", grid_search.best_params_)\n",
        "    print(f\"Confusion Matrix for {name}:\\n\", confusion)\n",
        "    print(f\"Accuracy Score for {name}: {accuracy:.2f}\")\n",
        "    print(f\"Precision for {name}: {precision:.2f}\")\n",
        "    print(f\"Recall for {name}: {recall:.2f}\")\n",
        "    print(f\"F1 Score for {name}: {f1:.2f}\")\n",
        "\n",
        "    # Plot the confusion matrix\n",
        "    plt.figure(figsize=(8,6))\n",
        "    sns.heatmap(confusion, annot=True, fmt='d', cmap='Blues')\n",
        "    plt.title(f'Confusion Matrix for {name}')\n",
        "    plt.xlabel('Predicted')\n",
        "    plt.ylabel('Actual')\n",
        "    plt.show()"
      ]
    }
  ],
  "metadata": {
    "colab": {
      "provenance": [],
      "gpuType": "T4"
    },
    "kernelspec": {
      "display_name": "Python 3",
      "name": "python3"
    },
    "language_info": {
      "name": "python"
    },
    "accelerator": "GPU"
  },
  "nbformat": 4,
  "nbformat_minor": 0
}